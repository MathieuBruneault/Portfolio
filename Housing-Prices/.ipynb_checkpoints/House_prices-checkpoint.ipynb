{
 "cells": [
  {
   "cell_type": "markdown",
   "metadata": {},
   "source": [
    "# Predicting House Prices"
   ]
  },
  {
   "cell_type": "markdown",
   "metadata": {},
   "source": [
    "## Imports"
   ]
  },
  {
   "cell_type": "code",
   "execution_count": 258,
   "metadata": {},
   "outputs": [],
   "source": [
    "import pandas as pd\n",
    "import numpy as np\n",
    "import math\n",
    "import sys\n",
    "import matplotlib.pyplot as plt\n",
    "\n",
    "# Make numpy values easier to read.\n",
    "np.set_printoptions(precision=3, suppress=True)\n",
    "\n",
    "import tensorflow as tf\n",
    "from tensorflow.keras import layers\n",
    "import keras\n",
    "from sklearn.ensemble import RandomForestRegressor\n",
    "from sklearn.preprocessing import OneHotEncoder\n",
    "from sklearn.model_selection import RandomizedSearchCV"
   ]
  },
  {
   "cell_type": "markdown",
   "metadata": {},
   "source": [
    "## Data preprocessing"
   ]
  },
  {
   "cell_type": "markdown",
   "metadata": {},
   "source": [
    "Get data as pandas array and make a dict of keras inputs"
   ]
  },
  {
   "cell_type": "code",
   "execution_count": 186,
   "metadata": {},
   "outputs": [],
   "source": [
    "full_data = pd.read_csv(\"../Data/house_prices/train.csv\")\n",
    "cutoff = 7 * len(full_data) // 10\n",
    "\n",
    "train_data = full_data[:cutoff]\n",
    "features = train_data.copy()\n",
    "labels = np.array(features.pop('SalePrice')) / 100000\n",
    "features.pop('Id')\n",
    "\n",
    "test_data = full_data[cutoff:]\n",
    "test_features = test_data.copy()\n",
    "test_labels = np.array(test_features.pop('SalePrice')) / 100000\n",
    "test_features.pop('Id')\n",
    "\n",
    "inputs = {}\n",
    "year_cols=['YearBuilt', 'YearRemodAdd', 'GarageYrBlt', 'YrSold']\n",
    "\n",
    "for col in year_cols:\n",
    "    features[col] = features[col].astype(str)\n",
    "    test_features[col] = test_features[col].astype(str)\n",
    "\n",
    "for name, column in features.items():\n",
    "    dtype = column.dtype\n",
    "    if dtype == object:\n",
    "        dtype = tf.string\n",
    "        features[name] = features[name].fillna('NO INFO')\n",
    "    else:\n",
    "        dtype = tf.float32\n",
    "        features[name] = features[name].fillna(features[name].mean(axis=0))\n",
    "\n",
    "    inputs[name] = tf.keras.Input(shape=(1,), name=name, dtype=dtype)\n",
    "\n",
    "test_inputs = {}\n",
    "\n",
    "for name, column in test_features.items():\n",
    "    dtype = column.dtype\n",
    "    if dtype == object:\n",
    "        dtype = tf.string\n",
    "        test_features[name] = test_features[name].fillna('NO INFO')\n",
    "    else:\n",
    "        dtype = tf.float32\n",
    "        test_features[name] = test_features[name].fillna(test_features[name].mean(axis=0))\n",
    "\n",
    "    test_inputs[name] = tf.keras.Input(shape=(1,), name=name, dtype=dtype)"
   ]
  },
  {
   "cell_type": "markdown",
   "metadata": {},
   "source": [
    "Concatenate and normalize the float/integer inputs through appropriate layers"
   ]
  },
  {
   "cell_type": "code",
   "execution_count": 187,
   "metadata": {},
   "outputs": [],
   "source": [
    "numeric_inputs = {name:input for name,input in inputs.items()\n",
    "                  if input.dtype==tf.float32}\n",
    "\n",
    "x = layers.Concatenate()(list(numeric_inputs.values()))\n",
    "norm = layers.Normalization()\n",
    "norm.adapt(np.array(features[numeric_inputs.keys()]))\n",
    "all_numeric_inputs = norm(x)\n",
    "\n",
    "preprocessed_inputs = [all_numeric_inputs]"
   ]
  },
  {
   "cell_type": "markdown",
   "metadata": {},
   "source": [
    "Process the string inputs, by passing through a StringLookup and CategoryEncoding layer"
   ]
  },
  {
   "cell_type": "code",
   "execution_count": 188,
   "metadata": {},
   "outputs": [],
   "source": [
    "for name, inpt in inputs.items():\n",
    "    if inpt.dtype == tf.float32:\n",
    "        continue\n",
    "    lookup = layers.StringLookup(vocabulary=np.unique(features[name]))\n",
    "    one_hot = layers.CategoryEncoding(num_tokens=lookup.vocabulary_size())\n",
    "\n",
    "    x = lookup(inpt)\n",
    "    x = one_hot(x)\n",
    "    preprocessed_inputs.append(x)"
   ]
  },
  {
   "cell_type": "code",
   "execution_count": 189,
   "metadata": {},
   "outputs": [],
   "source": [
    "preprocessed_inputs_cat = layers.Concatenate()(preprocessed_inputs)\n",
    "preprocessing_model = tf.keras.Model(inputs, preprocessed_inputs_cat)"
   ]
  },
  {
   "cell_type": "code",
   "execution_count": 190,
   "metadata": {},
   "outputs": [],
   "source": [
    "features_dict = {name: np.array(value) \n",
    "                for name, value in features.items()}\n",
    "test_features_dict = {name: np.array(value) \n",
    "                    for name, value in test_features.items()}"
   ]
  },
  {
   "cell_type": "markdown",
   "metadata": {},
   "source": [
    "## Building the first model: Keras neural network"
   ]
  },
  {
   "cell_type": "markdown",
   "metadata": {},
   "source": [
    "Start with a simple model, with one hidden layer of 40 nodes"
   ]
  },
  {
   "cell_type": "code",
   "execution_count": 203,
   "metadata": {},
   "outputs": [],
   "source": [
    "def first_model(preprocessing, inputs):\n",
    "    main = tf.keras.Sequential([\n",
    "        layers.Dense(40, activation='relu'),\n",
    "        layers.Dropout(.2, input_shape=(2,)),\n",
    "        layers.Dense(1)\n",
    "    ])\n",
    "    preprocessed_inputs = preprocessing(inputs)\n",
    "    result = main(preprocessed_inputs)\n",
    "    model = tf.keras.Model(inputs, result)\n",
    "\n",
    "    model.compile(loss=tf.losses.MeanSquaredLogarithmicError(),\n",
    "                optimizer=tf.optimizers.Adam(),\n",
    "                 metrics=['MeanAbsolutePercentageError', 'MSLE'])\n",
    "    return model"
   ]
  },
  {
   "cell_type": "code",
   "execution_count": 204,
   "metadata": {},
   "outputs": [],
   "source": [
    "class Callbacks(keras.callbacks.Callback):\n",
    "    def on_epoch_end(self, epoch, logs=None):\n",
    "        train_losses.append(logs['mean_absolute_percentage_error'])\n",
    "        epochs_list.append(epoch)\n",
    "        test_losses.append(self.model.evaluate(test_features_dict, test_labels)[1])"
   ]
  },
  {
   "cell_type": "code",
   "execution_count": 205,
   "metadata": {},
   "outputs": [
    {
     "name": "stdout",
     "output_type": "stream",
     "text": [
      "Epoch 1/80\n",
      "14/14 [==============================] - 1s 3ms/step - loss: 0.0272 - mean_absolute_percentage_error: 22.1772 - MSLE: 0.0272\n",
      "32/32 [==============================] - 4s 56ms/step - loss: 0.1433 - mean_absolute_percentage_error: 46.8149 - MSLE: 0.1433\n",
      "Epoch 2/80\n",
      "14/14 [==============================] - 0s 3ms/step - loss: 0.0188 - mean_absolute_percentage_error: 17.6240 - MSLE: 0.0188\n",
      "32/32 [==============================] - 0s 13ms/step - loss: 0.0299 - mean_absolute_percentage_error: 22.3442 - MSLE: 0.0299\n",
      "Epoch 3/80\n",
      "14/14 [==============================] - 0s 3ms/step - loss: 0.0150 - mean_absolute_percentage_error: 14.9864 - MSLE: 0.0150\n",
      "32/32 [==============================] - 0s 13ms/step - loss: 0.0250 - mean_absolute_percentage_error: 19.8083 - MSLE: 0.0250\n",
      "Epoch 4/80\n",
      "14/14 [==============================] - 0s 3ms/step - loss: 0.0133 - mean_absolute_percentage_error: 13.4892 - MSLE: 0.0133\n",
      "32/32 [==============================] - 0s 13ms/step - loss: 0.0220 - mean_absolute_percentage_error: 19.5346 - MSLE: 0.0220\n",
      "Epoch 5/80\n",
      "14/14 [==============================] - 0s 3ms/step - loss: 0.0126 - mean_absolute_percentage_error: 12.9205 - MSLE: 0.0126\n",
      "32/32 [==============================] - 0s 13ms/step - loss: 0.0178 - mean_absolute_percentage_error: 16.7421 - MSLE: 0.0178\n",
      "Epoch 6/80\n",
      "14/14 [==============================] - 0s 3ms/step - loss: 0.0122 - mean_absolute_percentage_error: 12.8521 - MSLE: 0.0122\n",
      "32/32 [==============================] - 0s 13ms/step - loss: 0.0177 - mean_absolute_percentage_error: 16.7213 - MSLE: 0.0177\n",
      "Epoch 7/80\n",
      "14/14 [==============================] - 0s 3ms/step - loss: 0.0121 - mean_absolute_percentage_error: 12.7990 - MSLE: 0.0121\n",
      "32/32 [==============================] - 2s 67ms/step - loss: 0.0154 - mean_absolute_percentage_error: 15.6756 - MSLE: 0.0154\n",
      "Epoch 8/80\n",
      "14/14 [==============================] - 0s 3ms/step - loss: 0.0112 - mean_absolute_percentage_error: 11.9865 - MSLE: 0.0112\n",
      "32/32 [==============================] - 0s 14ms/step - loss: 0.0147 - mean_absolute_percentage_error: 15.2826 - MSLE: 0.0147\n",
      "Epoch 9/80\n",
      "14/14 [==============================] - 0s 3ms/step - loss: 0.0114 - mean_absolute_percentage_error: 12.4459 - MSLE: 0.0114\n",
      "32/32 [==============================] - 0s 14ms/step - loss: 0.0152 - mean_absolute_percentage_error: 15.6201 - MSLE: 0.0152\n",
      "Epoch 10/80\n",
      "14/14 [==============================] - 0s 6ms/step - loss: 0.0112 - mean_absolute_percentage_error: 12.3583 - MSLE: 0.0112\n",
      "32/32 [==============================] - 1s 18ms/step - loss: 0.0133 - mean_absolute_percentage_error: 14.9077 - MSLE: 0.0133\n",
      "Epoch 11/80\n",
      "14/14 [==============================] - 0s 3ms/step - loss: 0.0111 - mean_absolute_percentage_error: 12.1555 - MSLE: 0.0111\n",
      "32/32 [==============================] - 0s 14ms/step - loss: 0.0135 - mean_absolute_percentage_error: 14.5430 - MSLE: 0.0135\n",
      "Epoch 12/80\n",
      "14/14 [==============================] - 0s 3ms/step - loss: 0.0106 - mean_absolute_percentage_error: 11.3409 - MSLE: 0.0106\n",
      "32/32 [==============================] - 0s 14ms/step - loss: 0.0138 - mean_absolute_percentage_error: 14.7333 - MSLE: 0.0138\n",
      "Epoch 13/80\n",
      "14/14 [==============================] - 0s 4ms/step - loss: 0.0107 - mean_absolute_percentage_error: 11.7628 - MSLE: 0.0107\n",
      "32/32 [==============================] - 0s 14ms/step - loss: 0.0141 - mean_absolute_percentage_error: 15.2564 - MSLE: 0.0141\n",
      "Epoch 14/80\n",
      "14/14 [==============================] - 0s 3ms/step - loss: 0.0106 - mean_absolute_percentage_error: 11.9031 - MSLE: 0.0106\n",
      "32/32 [==============================] - 0s 15ms/step - loss: 0.0133 - mean_absolute_percentage_error: 14.3365 - MSLE: 0.0133\n",
      "Epoch 15/80\n",
      "14/14 [==============================] - 0s 3ms/step - loss: 0.0105 - mean_absolute_percentage_error: 11.7669 - MSLE: 0.0105\n",
      "32/32 [==============================] - 0s 13ms/step - loss: 0.0122 - mean_absolute_percentage_error: 13.8769 - MSLE: 0.0122\n",
      "Epoch 16/80\n",
      "14/14 [==============================] - 0s 3ms/step - loss: 0.0107 - mean_absolute_percentage_error: 12.1155 - MSLE: 0.0107\n",
      "32/32 [==============================] - 0s 13ms/step - loss: 0.0115 - mean_absolute_percentage_error: 13.3510 - MSLE: 0.0115\n",
      "Epoch 17/80\n",
      "14/14 [==============================] - 0s 3ms/step - loss: 0.0102 - mean_absolute_percentage_error: 11.2564 - MSLE: 0.0102\n",
      "32/32 [==============================] - 0s 13ms/step - loss: 0.0124 - mean_absolute_percentage_error: 13.7223 - MSLE: 0.0124\n",
      "Epoch 18/80\n",
      "14/14 [==============================] - 0s 3ms/step - loss: 0.0104 - mean_absolute_percentage_error: 11.8294 - MSLE: 0.0104\n",
      "32/32 [==============================] - 0s 13ms/step - loss: 0.0116 - mean_absolute_percentage_error: 13.5598 - MSLE: 0.0116\n",
      "Epoch 19/80\n",
      "14/14 [==============================] - 0s 3ms/step - loss: 0.0104 - mean_absolute_percentage_error: 11.7382 - MSLE: 0.0104\n",
      "32/32 [==============================] - 0s 13ms/step - loss: 0.0128 - mean_absolute_percentage_error: 13.8904 - MSLE: 0.0128\n",
      "Epoch 20/80\n",
      "14/14 [==============================] - 0s 3ms/step - loss: 0.0100 - mean_absolute_percentage_error: 11.2588 - MSLE: 0.0100\n",
      "32/32 [==============================] - 0s 13ms/step - loss: 0.0112 - mean_absolute_percentage_error: 13.2904 - MSLE: 0.0112\n",
      "Epoch 21/80\n",
      "14/14 [==============================] - 0s 3ms/step - loss: 0.0101 - mean_absolute_percentage_error: 11.2803 - MSLE: 0.0101\n",
      "32/32 [==============================] - 0s 13ms/step - loss: 0.0098 - mean_absolute_percentage_error: 12.2004 - MSLE: 0.0098\n",
      "Epoch 22/80\n",
      "14/14 [==============================] - 0s 3ms/step - loss: 0.0117 - mean_absolute_percentage_error: 13.1689 - MSLE: 0.0117\n",
      "32/32 [==============================] - 0s 16ms/step - loss: 0.0119 - mean_absolute_percentage_error: 13.2351 - MSLE: 0.0119\n",
      "Epoch 23/80\n",
      "14/14 [==============================] - 0s 3ms/step - loss: 0.0102 - mean_absolute_percentage_error: 11.5151 - MSLE: 0.0102\n",
      "32/32 [==============================] - 0s 15ms/step - loss: 0.0100 - mean_absolute_percentage_error: 12.6778 - MSLE: 0.0100\n",
      "Epoch 24/80\n",
      "14/14 [==============================] - 0s 3ms/step - loss: 0.0106 - mean_absolute_percentage_error: 12.1340 - MSLE: 0.0106\n",
      "32/32 [==============================] - 0s 13ms/step - loss: 0.0101 - mean_absolute_percentage_error: 12.4605 - MSLE: 0.0101\n",
      "Epoch 25/80\n",
      "14/14 [==============================] - 0s 3ms/step - loss: 0.0103 - mean_absolute_percentage_error: 11.5086 - MSLE: 0.0103\n",
      "32/32 [==============================] - 0s 13ms/step - loss: 0.0103 - mean_absolute_percentage_error: 12.7730 - MSLE: 0.0103\n",
      "Epoch 26/80\n",
      "14/14 [==============================] - 0s 3ms/step - loss: 0.0104 - mean_absolute_percentage_error: 12.2442 - MSLE: 0.0104\n",
      "32/32 [==============================] - 0s 13ms/step - loss: 0.0103 - mean_absolute_percentage_error: 12.9167 - MSLE: 0.0103\n",
      "Epoch 27/80\n",
      "14/14 [==============================] - 0s 3ms/step - loss: 0.0101 - mean_absolute_percentage_error: 11.4110 - MSLE: 0.0101\n",
      "32/32 [==============================] - 0s 13ms/step - loss: 0.0102 - mean_absolute_percentage_error: 12.6422 - MSLE: 0.0102\n",
      "Epoch 28/80\n",
      "14/14 [==============================] - 0s 3ms/step - loss: 0.0098 - mean_absolute_percentage_error: 11.1751 - MSLE: 0.0098\n",
      "32/32 [==============================] - 0s 13ms/step - loss: 0.0103 - mean_absolute_percentage_error: 12.8214 - MSLE: 0.0103\n",
      "Epoch 29/80\n",
      "14/14 [==============================] - 0s 3ms/step - loss: 0.0099 - mean_absolute_percentage_error: 11.6441 - MSLE: 0.0099\n",
      "32/32 [==============================] - 0s 13ms/step - loss: 0.0096 - mean_absolute_percentage_error: 12.2205 - MSLE: 0.0096\n",
      "Epoch 30/80\n",
      "14/14 [==============================] - 0s 3ms/step - loss: 0.0096 - mean_absolute_percentage_error: 10.8320 - MSLE: 0.0096\n",
      "32/32 [==============================] - 0s 13ms/step - loss: 0.0093 - mean_absolute_percentage_error: 12.2098 - MSLE: 0.0093\n",
      "Epoch 31/80\n",
      "14/14 [==============================] - 0s 3ms/step - loss: 0.0100 - mean_absolute_percentage_error: 11.5931 - MSLE: 0.0100\n",
      "32/32 [==============================] - 0s 13ms/step - loss: 0.0094 - mean_absolute_percentage_error: 11.8771 - MSLE: 0.0094\n",
      "Epoch 32/80\n",
      "14/14 [==============================] - 0s 3ms/step - loss: 0.0100 - mean_absolute_percentage_error: 11.9148 - MSLE: 0.0100\n",
      "32/32 [==============================] - 0s 13ms/step - loss: 0.0098 - mean_absolute_percentage_error: 12.1270 - MSLE: 0.0098\n",
      "Epoch 33/80\n",
      "14/14 [==============================] - 0s 3ms/step - loss: 0.0096 - mean_absolute_percentage_error: 11.1674 - MSLE: 0.0096\n",
      "32/32 [==============================] - 0s 13ms/step - loss: 0.0093 - mean_absolute_percentage_error: 11.9527 - MSLE: 0.0093\n",
      "Epoch 34/80\n",
      "14/14 [==============================] - 0s 3ms/step - loss: 0.0096 - mean_absolute_percentage_error: 11.4304 - MSLE: 0.0096\n",
      "32/32 [==============================] - 0s 13ms/step - loss: 0.0090 - mean_absolute_percentage_error: 11.5747 - MSLE: 0.0090\n",
      "Epoch 35/80\n",
      "14/14 [==============================] - 0s 3ms/step - loss: 0.0091 - mean_absolute_percentage_error: 10.6373 - MSLE: 0.0091\n",
      "32/32 [==============================] - 0s 13ms/step - loss: 0.0087 - mean_absolute_percentage_error: 11.7408 - MSLE: 0.0087\n",
      "Epoch 36/80\n",
      "14/14 [==============================] - 0s 3ms/step - loss: 0.0095 - mean_absolute_percentage_error: 10.9583 - MSLE: 0.0095\n",
      "32/32 [==============================] - 0s 13ms/step - loss: 0.0084 - mean_absolute_percentage_error: 11.2856 - MSLE: 0.0084\n",
      "Epoch 37/80\n",
      "14/14 [==============================] - 0s 3ms/step - loss: 0.0093 - mean_absolute_percentage_error: 11.0048 - MSLE: 0.0093\n",
      "32/32 [==============================] - 0s 13ms/step - loss: 0.0091 - mean_absolute_percentage_error: 12.0387 - MSLE: 0.0091\n",
      "Epoch 38/80\n",
      "14/14 [==============================] - 0s 3ms/step - loss: 0.0094 - mean_absolute_percentage_error: 11.5422 - MSLE: 0.0094\n",
      "32/32 [==============================] - 0s 13ms/step - loss: 0.0079 - mean_absolute_percentage_error: 11.0060 - MSLE: 0.0079\n",
      "Epoch 39/80\n",
      "14/14 [==============================] - 0s 3ms/step - loss: 0.0090 - mean_absolute_percentage_error: 10.6940 - MSLE: 0.0090\n",
      "32/32 [==============================] - 0s 13ms/step - loss: 0.0089 - mean_absolute_percentage_error: 11.8660 - MSLE: 0.0089\n",
      "Epoch 40/80\n",
      "14/14 [==============================] - 0s 3ms/step - loss: 0.0088 - mean_absolute_percentage_error: 10.9566 - MSLE: 0.0088\n",
      "32/32 [==============================] - 0s 13ms/step - loss: 0.0078 - mean_absolute_percentage_error: 10.9165 - MSLE: 0.0078\n",
      "Epoch 41/80\n",
      "14/14 [==============================] - 0s 3ms/step - loss: 0.0100 - mean_absolute_percentage_error: 11.7982 - MSLE: 0.0100\n",
      "32/32 [==============================] - 0s 13ms/step - loss: 0.0088 - mean_absolute_percentage_error: 11.6493 - MSLE: 0.0088\n",
      "Epoch 42/80\n",
      "14/14 [==============================] - 0s 3ms/step - loss: 0.0092 - mean_absolute_percentage_error: 11.3344 - MSLE: 0.0092\n",
      "32/32 [==============================] - 0s 13ms/step - loss: 0.0077 - mean_absolute_percentage_error: 11.1377 - MSLE: 0.0077\n",
      "Epoch 43/80\n",
      "14/14 [==============================] - 0s 3ms/step - loss: 0.0092 - mean_absolute_percentage_error: 11.0688 - MSLE: 0.0092\n",
      "32/32 [==============================] - 0s 13ms/step - loss: 0.0085 - mean_absolute_percentage_error: 11.4294 - MSLE: 0.0085\n",
      "Epoch 44/80\n",
      "14/14 [==============================] - 0s 3ms/step - loss: 0.0095 - mean_absolute_percentage_error: 11.3073 - MSLE: 0.0095\n",
      "32/32 [==============================] - 0s 13ms/step - loss: 0.0083 - mean_absolute_percentage_error: 11.2868 - MSLE: 0.0083\n",
      "Epoch 45/80\n",
      "14/14 [==============================] - 0s 3ms/step - loss: 0.0092 - mean_absolute_percentage_error: 11.1824 - MSLE: 0.0092\n",
      "32/32 [==============================] - 0s 13ms/step - loss: 0.0083 - mean_absolute_percentage_error: 11.2396 - MSLE: 0.0083\n",
      "Epoch 46/80\n",
      "14/14 [==============================] - 0s 3ms/step - loss: 0.0090 - mean_absolute_percentage_error: 11.0037 - MSLE: 0.0090\n",
      "32/32 [==============================] - 0s 13ms/step - loss: 0.0073 - mean_absolute_percentage_error: 10.6374 - MSLE: 0.0073\n",
      "Epoch 47/80\n",
      "14/14 [==============================] - 0s 3ms/step - loss: 0.0090 - mean_absolute_percentage_error: 10.8951 - MSLE: 0.0090\n",
      "32/32 [==============================] - 0s 13ms/step - loss: 0.0074 - mean_absolute_percentage_error: 10.6456 - MSLE: 0.0074\n",
      "Epoch 48/80\n",
      "14/14 [==============================] - 0s 3ms/step - loss: 0.0086 - mean_absolute_percentage_error: 10.7138 - MSLE: 0.0086\n",
      "32/32 [==============================] - 0s 13ms/step - loss: 0.0075 - mean_absolute_percentage_error: 10.7819 - MSLE: 0.0075\n",
      "Epoch 49/80\n",
      "14/14 [==============================] - 0s 3ms/step - loss: 0.0086 - mean_absolute_percentage_error: 10.7461 - MSLE: 0.0086\n",
      "32/32 [==============================] - 0s 13ms/step - loss: 0.0073 - mean_absolute_percentage_error: 10.3784 - MSLE: 0.0073\n",
      "Epoch 50/80\n",
      "14/14 [==============================] - 0s 3ms/step - loss: 0.0093 - mean_absolute_percentage_error: 11.6599 - MSLE: 0.0093\n",
      "32/32 [==============================] - 0s 13ms/step - loss: 0.0071 - mean_absolute_percentage_error: 10.4279 - MSLE: 0.0071\n",
      "Epoch 51/80\n",
      "14/14 [==============================] - 0s 3ms/step - loss: 0.0090 - mean_absolute_percentage_error: 10.9561 - MSLE: 0.0090\n",
      "32/32 [==============================] - 0s 13ms/step - loss: 0.0075 - mean_absolute_percentage_error: 10.8775 - MSLE: 0.0075\n",
      "Epoch 52/80\n",
      "14/14 [==============================] - 0s 3ms/step - loss: 0.0086 - mean_absolute_percentage_error: 10.6928 - MSLE: 0.0086\n",
      "32/32 [==============================] - 0s 13ms/step - loss: 0.0070 - mean_absolute_percentage_error: 10.2658 - MSLE: 0.0070\n",
      "Epoch 53/80\n",
      "14/14 [==============================] - 0s 3ms/step - loss: 0.0095 - mean_absolute_percentage_error: 11.8007 - MSLE: 0.0095\n",
      "32/32 [==============================] - 0s 13ms/step - loss: 0.0072 - mean_absolute_percentage_error: 10.3525 - MSLE: 0.0072\n",
      "Epoch 54/80\n",
      "14/14 [==============================] - 0s 3ms/step - loss: 0.0089 - mean_absolute_percentage_error: 11.3157 - MSLE: 0.0089\n",
      "32/32 [==============================] - 0s 13ms/step - loss: 0.0071 - mean_absolute_percentage_error: 10.3887 - MSLE: 0.0071\n",
      "Epoch 55/80\n",
      "14/14 [==============================] - 0s 3ms/step - loss: 0.0088 - mean_absolute_percentage_error: 10.7317 - MSLE: 0.0088\n",
      "32/32 [==============================] - 0s 13ms/step - loss: 0.0067 - mean_absolute_percentage_error: 10.0519 - MSLE: 0.0067\n",
      "Epoch 56/80\n",
      "14/14 [==============================] - 0s 3ms/step - loss: 0.0086 - mean_absolute_percentage_error: 10.5783 - MSLE: 0.0086\n",
      "32/32 [==============================] - 0s 13ms/step - loss: 0.0069 - mean_absolute_percentage_error: 10.2680 - MSLE: 0.0069\n",
      "Epoch 57/80\n",
      "14/14 [==============================] - 0s 3ms/step - loss: 0.0086 - mean_absolute_percentage_error: 10.8012 - MSLE: 0.0086\n",
      "32/32 [==============================] - 0s 13ms/step - loss: 0.0063 - mean_absolute_percentage_error: 9.9732 - MSLE: 0.0063\n",
      "Epoch 58/80\n",
      "14/14 [==============================] - 0s 3ms/step - loss: 0.0088 - mean_absolute_percentage_error: 10.9046 - MSLE: 0.0088\n",
      "32/32 [==============================] - 0s 13ms/step - loss: 0.0066 - mean_absolute_percentage_error: 10.0107 - MSLE: 0.0066\n",
      "Epoch 59/80\n",
      "14/14 [==============================] - 0s 3ms/step - loss: 0.0085 - mean_absolute_percentage_error: 10.6731 - MSLE: 0.0085\n",
      "32/32 [==============================] - 0s 13ms/step - loss: 0.0062 - mean_absolute_percentage_error: 9.8673 - MSLE: 0.0062\n",
      "Epoch 60/80\n",
      "14/14 [==============================] - 0s 3ms/step - loss: 0.0087 - mean_absolute_percentage_error: 10.8169 - MSLE: 0.0087\n",
      "32/32 [==============================] - 0s 13ms/step - loss: 0.0063 - mean_absolute_percentage_error: 9.5985 - MSLE: 0.0063\n",
      "Epoch 61/80\n",
      "14/14 [==============================] - 0s 3ms/step - loss: 0.0086 - mean_absolute_percentage_error: 10.7958 - MSLE: 0.0086\n",
      "32/32 [==============================] - 0s 13ms/step - loss: 0.0058 - mean_absolute_percentage_error: 9.1224 - MSLE: 0.0058\n",
      "Epoch 62/80\n",
      "14/14 [==============================] - 0s 3ms/step - loss: 0.0085 - mean_absolute_percentage_error: 10.6646 - MSLE: 0.0085\n",
      "32/32 [==============================] - 0s 13ms/step - loss: 0.0059 - mean_absolute_percentage_error: 9.3851 - MSLE: 0.0059\n",
      "Epoch 63/80\n"
     ]
    },
    {
     "name": "stdout",
     "output_type": "stream",
     "text": [
      "14/14 [==============================] - 0s 3ms/step - loss: 0.0081 - mean_absolute_percentage_error: 10.5068 - MSLE: 0.0081\n",
      "32/32 [==============================] - 0s 13ms/step - loss: 0.0062 - mean_absolute_percentage_error: 9.3201 - MSLE: 0.0062\n",
      "Epoch 64/80\n",
      "14/14 [==============================] - 0s 3ms/step - loss: 0.0084 - mean_absolute_percentage_error: 10.7624 - MSLE: 0.0084\n",
      "32/32 [==============================] - 0s 13ms/step - loss: 0.0060 - mean_absolute_percentage_error: 9.2044 - MSLE: 0.0060\n",
      "Epoch 65/80\n",
      "14/14 [==============================] - 0s 3ms/step - loss: 0.0083 - mean_absolute_percentage_error: 10.6823 - MSLE: 0.0083\n",
      "32/32 [==============================] - 0s 13ms/step - loss: 0.0056 - mean_absolute_percentage_error: 9.1555 - MSLE: 0.0056\n",
      "Epoch 66/80\n",
      "14/14 [==============================] - 0s 3ms/step - loss: 0.0085 - mean_absolute_percentage_error: 10.5218 - MSLE: 0.0085\n",
      "32/32 [==============================] - 0s 13ms/step - loss: 0.0058 - mean_absolute_percentage_error: 9.3166 - MSLE: 0.0058\n",
      "Epoch 67/80\n",
      "14/14 [==============================] - 0s 3ms/step - loss: 0.0082 - mean_absolute_percentage_error: 10.4291 - MSLE: 0.0082\n",
      "32/32 [==============================] - 0s 13ms/step - loss: 0.0062 - mean_absolute_percentage_error: 9.2923 - MSLE: 0.0062\n",
      "Epoch 68/80\n",
      "14/14 [==============================] - 0s 3ms/step - loss: 0.0084 - mean_absolute_percentage_error: 10.5472 - MSLE: 0.0084\n",
      "32/32 [==============================] - 0s 13ms/step - loss: 0.0057 - mean_absolute_percentage_error: 9.2624 - MSLE: 0.0057\n",
      "Epoch 69/80\n",
      "14/14 [==============================] - 0s 3ms/step - loss: 0.0081 - mean_absolute_percentage_error: 10.4194 - MSLE: 0.0081\n",
      "32/32 [==============================] - 0s 13ms/step - loss: 0.0054 - mean_absolute_percentage_error: 8.9574 - MSLE: 0.0054\n",
      "Epoch 70/80\n",
      "14/14 [==============================] - 0s 3ms/step - loss: 0.0083 - mean_absolute_percentage_error: 10.5506 - MSLE: 0.0083\n",
      "32/32 [==============================] - 2s 62ms/step - loss: 0.0056 - mean_absolute_percentage_error: 9.2620 - MSLE: 0.0056\n",
      "Epoch 71/80\n",
      "14/14 [==============================] - 0s 3ms/step - loss: 0.0081 - mean_absolute_percentage_error: 10.4005 - MSLE: 0.0081\n",
      "32/32 [==============================] - 0s 14ms/step - loss: 0.0054 - mean_absolute_percentage_error: 9.1814 - MSLE: 0.0054\n",
      "Epoch 72/80\n",
      "14/14 [==============================] - 0s 3ms/step - loss: 0.0085 - mean_absolute_percentage_error: 10.6004 - MSLE: 0.0085\n",
      "32/32 [==============================] - 0s 13ms/step - loss: 0.0052 - mean_absolute_percentage_error: 8.5713 - MSLE: 0.0052\n",
      "Epoch 73/80\n",
      "14/14 [==============================] - 0s 3ms/step - loss: 0.0084 - mean_absolute_percentage_error: 10.6715 - MSLE: 0.0084\n",
      "32/32 [==============================] - 0s 14ms/step - loss: 0.0053 - mean_absolute_percentage_error: 9.0062 - MSLE: 0.0053\n",
      "Epoch 74/80\n",
      "14/14 [==============================] - 0s 3ms/step - loss: 0.0091 - mean_absolute_percentage_error: 10.9892 - MSLE: 0.0091\n",
      "32/32 [==============================] - 0s 13ms/step - loss: 0.0057 - mean_absolute_percentage_error: 9.0658 - MSLE: 0.0057\n",
      "Epoch 75/80\n",
      "14/14 [==============================] - 0s 3ms/step - loss: 0.0084 - mean_absolute_percentage_error: 10.5219 - MSLE: 0.0084\n",
      "32/32 [==============================] - 0s 13ms/step - loss: 0.0051 - mean_absolute_percentage_error: 8.8058 - MSLE: 0.0051\n",
      "Epoch 76/80\n",
      "14/14 [==============================] - 0s 3ms/step - loss: 0.0083 - mean_absolute_percentage_error: 10.3082 - MSLE: 0.0083\n",
      "32/32 [==============================] - 0s 13ms/step - loss: 0.0058 - mean_absolute_percentage_error: 9.0451 - MSLE: 0.0058\n",
      "Epoch 77/80\n",
      "14/14 [==============================] - 0s 3ms/step - loss: 0.0085 - mean_absolute_percentage_error: 10.5834 - MSLE: 0.0085\n",
      "32/32 [==============================] - 0s 13ms/step - loss: 0.0046 - mean_absolute_percentage_error: 8.2748 - MSLE: 0.0046\n",
      "Epoch 78/80\n",
      "14/14 [==============================] - 0s 3ms/step - loss: 0.0083 - mean_absolute_percentage_error: 10.3938 - MSLE: 0.0083\n",
      "32/32 [==============================] - 0s 13ms/step - loss: 0.0059 - mean_absolute_percentage_error: 9.0759 - MSLE: 0.0059\n",
      "Epoch 79/80\n",
      "14/14 [==============================] - 0s 3ms/step - loss: 0.0083 - mean_absolute_percentage_error: 10.5288 - MSLE: 0.0083\n",
      "32/32 [==============================] - 0s 13ms/step - loss: 0.0053 - mean_absolute_percentage_error: 8.5945 - MSLE: 0.0053\n",
      "Epoch 80/80\n",
      "14/14 [==============================] - 0s 3ms/step - loss: 0.0087 - mean_absolute_percentage_error: 10.9867 - MSLE: 0.0087\n",
      "32/32 [==============================] - 0s 13ms/step - loss: 0.0054 - mean_absolute_percentage_error: 8.6055 - MSLE: 0.0054\n"
     ]
    },
    {
     "data": {
      "text/plain": [
       "<keras.callbacks.History at 0x7f2efe0359e8>"
      ]
     },
     "execution_count": 205,
     "metadata": {},
     "output_type": "execute_result"
    }
   ],
   "source": [
    "train_losses = []\n",
    "test_losses = []\n",
    "epochs_list = []\n",
    "model = first_model(preprocessing_model, inputs)\n",
    "model.fit(x=features_dict, y=labels, epochs=80, callbacks=[Callbacks()])"
   ]
  },
  {
   "cell_type": "code",
   "execution_count": 206,
   "metadata": {},
   "outputs": [
    {
     "data": {
      "image/png": "[encoded data removed]",
      "text/plain": [
       "<Figure size 432x288 with 1 Axes>"
      ]
     },
     "metadata": {
      "needs_background": "light"
     },
     "output_type": "display_data"
    },
    {
     "data": {
      "text/plain": [
       "46.81486892700195"
      ]
     },
     "execution_count": 206,
     "metadata": {},
     "output_type": "execute_result"
    }
   ],
   "source": [
    "plt.figure()\n",
    "plt.plot(epochs_list, train_losses, label='Train')\n",
    "plt.plot(epochs_list, test_losses, label='Test')\n",
    "plt.legend()\n",
    "plt.ylim([0,1.15 * max(train_losses[0], test_losses[0])])\n",
    "plt.show()\n",
    "train_losses[0]"
   ]
  },
  {
   "cell_type": "code",
   "execution_count": 207,
   "metadata": {},
   "outputs": [
    {
     "name": "stdout",
     "output_type": "stream",
     "text": [
      "14/14 [==============================] - 0s 3ms/step - loss: 0.0087 - mean_absolute_percentage_error: 10.9867 - MSLE: 0.0087\n"
     ]
    },
    {
     "data": {
      "text/plain": [
       "[0.008694416843354702, 10.98674488067627, 0.008694416843354702]"
      ]
     },
     "execution_count": 207,
     "metadata": {},
     "output_type": "execute_result"
    }
   ],
   "source": [
    "model.evaluate(test_features_dict, test_labels)"
   ]
  },
  {
   "cell_type": "code",
   "execution_count": 208,
   "metadata": {},
   "outputs": [],
   "source": [
    "preds = model.predict(test_features_dict) * 100000\n",
    "actual = test_labels * 100000"
   ]
  },
  {
   "cell_type": "code",
   "execution_count": 209,
   "metadata": {},
   "outputs": [
    {
     "data": {
      "text/plain": [
       "array([0.147])"
      ]
     },
     "execution_count": 209,
     "metadata": {},
     "output_type": "execute_result"
    }
   ],
   "source": [
    "tot_sum = 0\n",
    "for i in range(len(preds)):\n",
    "    tot_sum += (np.log(preds[i] + 1) - np.log(actual[i] + 1)) ** 2\n",
    "np.sqrt(tot_sum / len(preds))"
   ]
  },
  {
   "cell_type": "markdown",
   "metadata": {},
   "source": [
    "# New model: Random Forest"
   ]
  },
  {
   "cell_type": "markdown",
   "metadata": {},
   "source": [
    "Since it seems like it will be hard to reduce our bias with a neural network, we will turn to another model: random forests. We will do the same date pre-processing, but this time using pandas, since we will Scikit learn and not keras."
   ]
  },
  {
   "cell_type": "code",
   "execution_count": 259,
   "metadata": {},
   "outputs": [
    {
     "name": "stdout",
     "output_type": "stream",
     "text": [
      "\n"
     ]
    }
   ],
   "source": [
    "full_data = pd.read_csv(\"../Data/house_prices/train.csv\")\n",
    "\n",
    "year_cols=['YearBuilt', 'YearRemodAdd', 'GarageYrBlt', 'YrSold']\n",
    "\n",
    "for col in year_cols:\n",
    "    full_data[col] = full_data[col].astype(str)\n",
    "\n",
    "cutoff = 7 * len(full_data) // 10\n",
    "\n",
    "train_data = full_data[:cutoff]\n",
    "features = train_data.copy()\n",
    "labels = np.array(features.pop('SalePrice'))\n",
    "features.pop('Id')\n",
    "\n",
    "test_data = full_data[cutoff:]\n",
    "test_features = test_data.copy()\n",
    "test_labels = np.array(test_features.pop('SalePrice'))\n",
    "test_features.pop('Id')\n",
    "print()"
   ]
  },
  {
   "cell_type": "code",
   "execution_count": 250,
   "metadata": {},
   "outputs": [],
   "source": [
    "def PandasPreprocessing(features, train_data):  \n",
    "    year_cols=['YearBuilt', 'YearRemodAdd', 'GarageYrBlt', 'YrSold']\n",
    "    for col in year_cols:\n",
    "        train_data[col] = train_data[col].astype(str)\n",
    "    for name, column in features.items():\n",
    "        dtype = column.dtype\n",
    "        if dtype == object:\n",
    "            features[name] = features[name].fillna('NO INFO')\n",
    "            train_data[name] = train_data[name].fillna('NO INFO')\n",
    "            enc = OneHotEncoder(handle_unknown='ignore')\n",
    "            enc.fit(train_data[name].to_numpy().reshape(-1, 1))\n",
    "            encoded_col = enc.transform(column.to_numpy().reshape(-1, 1)).toarray()\n",
    "            encoded_col = list(map(list, zip(*encoded_col)))\n",
    "            features.pop(name)\n",
    "            for i, col in enumerate(encoded_col):\n",
    "                features[name + '_' + str(i)] = col\n",
    "        else:\n",
    "            #No real need to normalize for tree based algorithms, just fill the nans with column mean\n",
    "            features[name] = features[name].fillna(features[name].mean(axis=0))\n",
    "    return features"
   ]
  },
  {
   "cell_type": "code",
   "execution_count": 260,
   "metadata": {},
   "outputs": [],
   "source": [
    "features = PandasPreprocessing(features, train_data)\n",
    "test_features = PandasPreprocessing(test_features, train_data)"
   ]
  },
  {
   "cell_type": "code",
   "execution_count": 261,
   "metadata": {},
   "outputs": [],
   "source": [
    "# Number of trees in random forest\n",
    "n_estimators = [int(x) for x in np.linspace(start = 200, stop = 2000, num = 10)]\n",
    "# Number of features to consider at every split\n",
    "max_features = ['auto', 'sqrt']\n",
    "# Maximum number of levels in tree\n",
    "max_depth = [int(x) for x in np.linspace(10, 110, num = 11)]\n",
    "max_depth.append(None)\n",
    "# Minimum number of samples required to split a node\n",
    "min_samples_split = [2, 5, 10]\n",
    "# Minimum number of samples required at each leaf node\n",
    "min_samples_leaf = [1, 2, 4]\n",
    "# Method of selecting samples for training each tree\n",
    "bootstrap = [True, False]\n",
    "# Create the random grid\n",
    "random_grid = {'n_estimators': n_estimators,\n",
    "               'max_features': max_features,\n",
    "               'max_depth': max_depth,\n",
    "               'min_samples_split': min_samples_split,\n",
    "               'min_samples_leaf': min_samples_leaf,\n",
    "               'bootstrap': bootstrap}"
   ]
  },
  {
   "cell_type": "code",
   "execution_count": 262,
   "metadata": {},
   "outputs": [
    {
     "name": "stdout",
     "output_type": "stream",
     "text": [
      "Fitting 3 folds for each of 100 candidates, totalling 300 fits\n"
     ]
    },
    {
     "name": "stderr",
     "output_type": "stream",
     "text": [
      "[Parallel(n_jobs=-1)]: Using backend LokyBackend with 8 concurrent workers.\n",
      "[Parallel(n_jobs=-1)]: Done  25 tasks      | elapsed:  1.2min\n",
      "[Parallel(n_jobs=-1)]: Done 146 tasks      | elapsed:  4.1min\n",
      "[Parallel(n_jobs=-1)]: Done 300 out of 300 | elapsed:  9.8min finished\n"
     ]
    },
    {
     "data": {
      "text/plain": [
       "RandomizedSearchCV(cv=3, error_score='raise-deprecating',\n",
       "                   estimator=RandomForestRegressor(bootstrap=True,\n",
       "                                                   criterion='mse',\n",
       "                                                   max_depth=None,\n",
       "                                                   max_features='auto',\n",
       "                                                   max_leaf_nodes=None,\n",
       "                                                   min_impurity_decrease=0.0,\n",
       "                                                   min_impurity_split=None,\n",
       "                                                   min_samples_leaf=1,\n",
       "                                                   min_samples_split=2,\n",
       "                                                   min_weight_fraction_leaf=0.0,\n",
       "                                                   n_estimators=1000,\n",
       "                                                   n_jobs=None, oob_score=False,\n",
       "                                                   random_state...\n",
       "                   param_distributions={'bootstrap': [True, False],\n",
       "                                        'max_depth': [10, 20, 30, 40, 50, 60,\n",
       "                                                      70, 80, 90, 100, 110,\n",
       "                                                      None],\n",
       "                                        'max_features': ['auto', 'sqrt'],\n",
       "                                        'min_samples_leaf': [1, 2, 4],\n",
       "                                        'min_samples_split': [2, 5, 10],\n",
       "                                        'n_estimators': [200, 400, 600, 800,\n",
       "                                                         1000, 1200, 1400, 1600,\n",
       "                                                         1800, 2000]},\n",
       "                   pre_dispatch='2*n_jobs', random_state=42, refit=True,\n",
       "                   return_train_score=False, scoring=None, verbose=2)"
      ]
     },
     "execution_count": 262,
     "metadata": {},
     "output_type": "execute_result"
    }
   ],
   "source": [
    "regr = RandomForestRegressor()\n",
    "regr_random = RandomizedSearchCV(estimator = regr, param_distributions = random_grid, n_iter = 100, cv = 3, verbose=2, random_state=42, n_jobs = -1)\n",
    "regr_random.fit(features, labels)"
   ]
  },
  {
   "cell_type": "code",
   "execution_count": 263,
   "metadata": {},
   "outputs": [
    {
     "data": {
      "text/plain": [
       "{'n_estimators': 600,\n",
       " 'min_samples_split': 5,\n",
       " 'min_samples_leaf': 1,\n",
       " 'max_features': 'auto',\n",
       " 'max_depth': 80,\n",
       " 'bootstrap': True}"
      ]
     },
     "execution_count": 263,
     "metadata": {},
     "output_type": "execute_result"
    }
   ],
   "source": [
    "regr_random.best_params_"
   ]
  },
  {
   "cell_type": "code",
   "execution_count": 266,
   "metadata": {},
   "outputs": [
    {
     "data": {
      "text/plain": [
       "RandomForestRegressor(bootstrap=True, criterion='mse', max_depth=80,\n",
       "                      max_features='auto', max_leaf_nodes=None,\n",
       "                      min_impurity_decrease=0.0, min_impurity_split=None,\n",
       "                      min_samples_leaf=1, min_samples_split=5,\n",
       "                      min_weight_fraction_leaf=0.0, n_estimators=600,\n",
       "                      n_jobs=None, oob_score=False, random_state=None,\n",
       "                      verbose=0, warm_start=False)"
      ]
     },
     "execution_count": 266,
     "metadata": {},
     "output_type": "execute_result"
    }
   ],
   "source": [
    "regr = RandomForestRegressor(n_estimators = 600,\n",
    " min_samples_split = 5,\n",
    " min_samples_leaf = 1,\n",
    " max_features = 'auto',\n",
    " max_depth = 80,\n",
    " bootstrap = True)\n",
    "regr.fit(features, labels)"
   ]
  },
  {
   "cell_type": "code",
   "execution_count": 267,
   "metadata": {},
   "outputs": [],
   "source": [
    "preds = regr.predict(test_features)\n",
    "actual = test_labels"
   ]
  },
  {
   "cell_type": "code",
   "execution_count": 268,
   "metadata": {},
   "outputs": [
    {
     "data": {
      "text/plain": [
       "0.14946554434076403"
      ]
     },
     "execution_count": 268,
     "metadata": {},
     "output_type": "execute_result"
    }
   ],
   "source": [
    "Desktoptot_sum = 0\n",
    "for i in range(len(preds)):\n",
    "    tot_sum += (np.log(preds[i] + 1) - np.log(actual[i] + 1)) ** 2\n",
    "np.sqrt(tot_sum / len(preds))"
   ]
  },
  {
   "cell_type": "code",
   "execution_count": null,
   "metadata": {},
   "outputs": [],
   "source": []
  }
 ],
 "metadata": {
  "kernelspec": {
   "display_name": "Python 3",
   "language": "python",
   "name": "python3"
  },
  "language_info": {
   "codemirror_mode": {
    "name": "ipython",
    "version": 3
   },
   "file_extension": ".py",
   "mimetype": "text/x-python",
   "name": "python",
   "nbconvert_exporter": "python",
   "pygments_lexer": "ipython3",
   "version": "3.7.3"
  }
 },
 "nbformat": 4,
 "nbformat_minor": 2
}
