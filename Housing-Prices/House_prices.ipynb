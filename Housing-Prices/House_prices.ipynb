{
 "cells": [
  {
   "cell_type": "markdown",
   "metadata": {},
   "source": [
    "# Predicting House Prices"
   ]
  },
  {
   "cell_type": "markdown",
   "metadata": {},
   "source": [
    "## Imports"
   ]
  },
  {
   "cell_type": "code",
   "execution_count": 2,
   "metadata": {},
   "outputs": [],
   "source": [
    "import pandas as pd\n",
    "import numpy as np\n",
    "import math\n",
    "import sys\n",
    "import matplotlib.pyplot as plt\n",
    "\n",
    "# Make numpy values easier to read.\n",
    "np.set_printoptions(precision=3, suppress=True)\n",
    "\n",
    "import tensorflow as tf\n",
    "from tensorflow.keras import layers\n",
    "import keras\n",
    "from sklearn.ensemble import RandomForestRegressor\n",
    "from sklearn.preprocessing import OneHotEncoder\n",
    "from sklearn.model_selection import RandomizedSearchCV"
   ]
  },
  {
   "cell_type": "markdown",
   "metadata": {},
   "source": [
    "## Data preprocessing"
   ]
  },
  {
   "cell_type": "markdown",
   "metadata": {},
   "source": [
    "Get data as pandas array and make a dict of keras inputs"
   ]
  },
  {
   "cell_type": "code",
   "execution_count": 5,
   "metadata": {},
   "outputs": [],
   "source": [
    "full_data = pd.read_csv(\"./Data/train.csv\")\n",
    "cutoff = 7 * len(full_data) // 10\n",
    "\n",
    "#Separate training and test data\n",
    "train_data = full_data[:cutoff]\n",
    "features = train_data.copy()\n",
    "labels = np.array(features.pop('SalePrice')) / 100000\n",
    "features.pop('Id')\n",
    "\n",
    "test_data = full_data[cutoff:]\n",
    "test_features = test_data.copy()\n",
    "test_labels = np.array(test_features.pop('SalePrice')) / 100000\n",
    "test_features.pop('Id')\n",
    "\n",
    "#Change the data type of the years to strings\n",
    "inputs = {}\n",
    "year_cols=['YearBuilt', 'YearRemodAdd', 'GarageYrBlt', 'YrSold']\n",
    "\n",
    "for col in year_cols:\n",
    "    features[col] = features[col].astype(str)\n",
    "    test_features[col] = test_features[col].astype(str)\n",
    "\n",
    "#Deal with the missing data, either with a unique name for strings or the mean of the column for numbers\n",
    "for name, column in features.items():\n",
    "    dtype = column.dtype\n",
    "    if dtype == object:\n",
    "        dtype = tf.string\n",
    "        features[name] = features[name].fillna('NO INFO')\n",
    "    else:\n",
    "        dtype = tf.float32\n",
    "        features[name] = features[name].fillna(features[name].mean(axis=0))\n",
    "\n",
    "    inputs[name] = tf.keras.Input(shape=(1,), name=name, dtype=dtype)\n",
    "\n",
    "test_inputs = {}\n",
    "\n",
    "#Do the same processing for the test data\n",
    "for name, column in test_features.items():\n",
    "    dtype = column.dtype\n",
    "    if dtype == object:\n",
    "        dtype = tf.string\n",
    "        test_features[name] = test_features[name].fillna('NO INFO')\n",
    "    else:\n",
    "        dtype = tf.float32\n",
    "        test_features[name] = test_features[name].fillna(test_features[name].mean(axis=0))\n",
    "\n",
    "    test_inputs[name] = tf.keras.Input(shape=(1,), name=name, dtype=dtype)"
   ]
  },
  {
   "cell_type": "markdown",
   "metadata": {},
   "source": [
    "Concatenate and normalize the float/integer inputs through appropriate layers to normalize them"
   ]
  },
  {
   "cell_type": "code",
   "execution_count": 6,
   "metadata": {},
   "outputs": [],
   "source": [
    "numeric_inputs = {name:input for name,input in inputs.items()\n",
    "                  if input.dtype==tf.float32}\n",
    "\n",
    "x = layers.Concatenate()(list(numeric_inputs.values()))\n",
    "norm = layers.Normalization()\n",
    "norm.adapt(np.array(features[numeric_inputs.keys()]))\n",
    "all_numeric_inputs = norm(x)\n",
    "\n",
    "preprocessed_inputs = [all_numeric_inputs]"
   ]
  },
  {
   "cell_type": "markdown",
   "metadata": {},
   "source": [
    "Process the string inputs, by passing through a StringLookup and CategoryEncoding layer, for one hot encoding"
   ]
  },
  {
   "cell_type": "code",
   "execution_count": 7,
   "metadata": {},
   "outputs": [],
   "source": [
    "for name, inpt in inputs.items():\n",
    "    if inpt.dtype == tf.float32:\n",
    "        continue\n",
    "    lookup = layers.StringLookup(vocabulary=np.unique(features[name]))\n",
    "    one_hot = layers.CategoryEncoding(num_tokens=lookup.vocabulary_size())\n",
    "\n",
    "    x = lookup(inpt)\n",
    "    x = one_hot(x)\n",
    "    preprocessed_inputs.append(x)"
   ]
  },
  {
   "cell_type": "code",
   "execution_count": 8,
   "metadata": {},
   "outputs": [],
   "source": [
    "preprocessed_inputs_cat = layers.Concatenate()(preprocessed_inputs)\n",
    "preprocessing_model = tf.keras.Model(inputs, preprocessed_inputs_cat)"
   ]
  },
  {
   "cell_type": "code",
   "execution_count": 9,
   "metadata": {},
   "outputs": [],
   "source": [
    "features_dict = {name: np.array(value) \n",
    "                for name, value in features.items()}\n",
    "test_features_dict = {name: np.array(value) \n",
    "                    for name, value in test_features.items()}"
   ]
  },
  {
   "cell_type": "markdown",
   "metadata": {},
   "source": [
    "## Building the first model: Keras neural network"
   ]
  },
  {
   "cell_type": "markdown",
   "metadata": {},
   "source": [
    "Start with a simple model, with one hidden layer of 40 nodes (more complex models were tried without much success)"
   ]
  },
  {
   "cell_type": "code",
   "execution_count": 10,
   "metadata": {},
   "outputs": [],
   "source": [
    "def first_model(preprocessing, inputs):\n",
    "    main = tf.keras.Sequential([\n",
    "        layers.Dense(40, activation='relu'),\n",
    "        layers.Dropout(.2, input_shape=(2,)),\n",
    "        layers.Dense(1)\n",
    "    ])\n",
    "    preprocessed_inputs = preprocessing(inputs)\n",
    "    result = main(preprocessed_inputs)\n",
    "    model = tf.keras.Model(inputs, result)\n",
    "\n",
    "    #The loss function will be based on the mean absolute percentage error\n",
    "    model.compile(loss=tf.losses.MeanSquaredLogarithmicError(),\n",
    "                optimizer=tf.optimizers.Adam(),\n",
    "                 metrics=['MeanAbsolutePercentageError', 'MSLE'])\n",
    "    return model"
   ]
  },
  {
   "cell_type": "markdown",
   "metadata": {},
   "source": [
    "Define some callbacks, to save the training and test error on each epoch"
   ]
  },
  {
   "cell_type": "code",
   "execution_count": 11,
   "metadata": {},
   "outputs": [],
   "source": [
    "class Callbacks(keras.callbacks.Callback):\n",
    "    def on_epoch_end(self, epoch, logs=None):\n",
    "        train_losses.append(logs['mean_absolute_percentage_error'])\n",
    "        epochs_list.append(epoch)\n",
    "        test_losses.append(self.model.evaluate(test_features_dict, test_labels)[1])"
   ]
  },
  {
   "cell_type": "markdown",
   "metadata": {},
   "source": [
    "Train the model"
   ]
  },
  {
   "cell_type": "code",
   "execution_count": 12,
   "metadata": {},
   "outputs": [
    {
     "name": "stdout",
     "output_type": "stream",
     "text": [
      "Epoch 1/80\n",
      "14/14 [==============================] - 2s 3ms/step - loss: 0.0366 - mean_absolute_percentage_error: 30.0059 - MSLE: 0.0366\n",
      "32/32 [==============================] - 6s 59ms/step - loss: 0.2131 - mean_absolute_percentage_error: 46.6095 - MSLE: 0.2131\n",
      "Epoch 2/80\n",
      "14/14 [==============================] - 0s 3ms/step - loss: 0.0149 - mean_absolute_percentage_error: 14.8521 - MSLE: 0.0149\n",
      "32/32 [==============================] - 0s 12ms/step - loss: 0.0325 - mean_absolute_percentage_error: 23.6192 - MSLE: 0.0325\n",
      "Epoch 3/80\n",
      "14/14 [==============================] - 0s 3ms/step - loss: 0.0123 - mean_absolute_percentage_error: 13.1353 - MSLE: 0.0123\n",
      "32/32 [==============================] - 0s 12ms/step - loss: 0.0226 - mean_absolute_percentage_error: 19.6082 - MSLE: 0.0226\n",
      "Epoch 4/80\n",
      "14/14 [==============================] - 0s 3ms/step - loss: 0.0112 - mean_absolute_percentage_error: 12.4073 - MSLE: 0.0112\n",
      "32/32 [==============================] - 0s 13ms/step - loss: 0.0175 - mean_absolute_percentage_error: 16.6543 - MSLE: 0.0175\n",
      "Epoch 5/80\n",
      "14/14 [==============================] - 0s 3ms/step - loss: 0.0108 - mean_absolute_percentage_error: 12.3903 - MSLE: 0.0108\n",
      "32/32 [==============================] - 0s 13ms/step - loss: 0.0165 - mean_absolute_percentage_error: 16.2498 - MSLE: 0.0165\n",
      "Epoch 6/80\n",
      "14/14 [==============================] - 0s 3ms/step - loss: 0.0097 - mean_absolute_percentage_error: 11.1066 - MSLE: 0.0097\n",
      "32/32 [==============================] - 0s 13ms/step - loss: 0.0143 - mean_absolute_percentage_error: 14.8413 - MSLE: 0.0143\n",
      "Epoch 7/80\n",
      "14/14 [==============================] - 0s 3ms/step - loss: 0.0093 - mean_absolute_percentage_error: 10.7339 - MSLE: 0.0093\n",
      "32/32 [==============================] - 0s 13ms/step - loss: 0.0141 - mean_absolute_percentage_error: 14.5747 - MSLE: 0.0141\n",
      "Epoch 8/80\n",
      "14/14 [==============================] - 0s 3ms/step - loss: 0.0094 - mean_absolute_percentage_error: 10.9514 - MSLE: 0.0094\n",
      "32/32 [==============================] - 0s 13ms/step - loss: 0.0131 - mean_absolute_percentage_error: 13.8518 - MSLE: 0.0131\n",
      "Epoch 9/80\n",
      "14/14 [==============================] - 0s 3ms/step - loss: 0.0091 - mean_absolute_percentage_error: 10.2745 - MSLE: 0.0091\n",
      "32/32 [==============================] - 0s 13ms/step - loss: 0.0134 - mean_absolute_percentage_error: 13.9027 - MSLE: 0.0134\n",
      "Epoch 10/80\n",
      "14/14 [==============================] - 0s 3ms/step - loss: 0.0088 - mean_absolute_percentage_error: 10.2404 - MSLE: 0.0088\n",
      "32/32 [==============================] - 0s 13ms/step - loss: 0.0123 - mean_absolute_percentage_error: 13.1624 - MSLE: 0.0123\n",
      "Epoch 11/80\n",
      "14/14 [==============================] - 0s 3ms/step - loss: 0.0088 - mean_absolute_percentage_error: 10.2422 - MSLE: 0.0088\n",
      "32/32 [==============================] - 1s 19ms/step - loss: 0.0120 - mean_absolute_percentage_error: 13.6223 - MSLE: 0.0120\n",
      "Epoch 12/80\n",
      "14/14 [==============================] - 0s 3ms/step - loss: 0.0088 - mean_absolute_percentage_error: 10.2483 - MSLE: 0.0088\n",
      "32/32 [==============================] - 0s 14ms/step - loss: 0.0114 - mean_absolute_percentage_error: 12.9674 - MSLE: 0.0114\n",
      "Epoch 13/80\n",
      "14/14 [==============================] - 0s 3ms/step - loss: 0.0086 - mean_absolute_percentage_error: 10.0451 - MSLE: 0.0086\n",
      "32/32 [==============================] - 0s 14ms/step - loss: 0.0112 - mean_absolute_percentage_error: 12.7427 - MSLE: 0.0112\n",
      "Epoch 14/80\n",
      "14/14 [==============================] - 0s 3ms/step - loss: 0.0089 - mean_absolute_percentage_error: 10.4941 - MSLE: 0.0089\n",
      "32/32 [==============================] - 0s 13ms/step - loss: 0.0111 - mean_absolute_percentage_error: 12.7443 - MSLE: 0.0111\n",
      "Epoch 15/80\n",
      "14/14 [==============================] - 0s 3ms/step - loss: 0.0087 - mean_absolute_percentage_error: 10.0854 - MSLE: 0.0087\n",
      "32/32 [==============================] - 0s 13ms/step - loss: 0.0106 - mean_absolute_percentage_error: 12.3664 - MSLE: 0.0106\n",
      "Epoch 16/80\n",
      "14/14 [==============================] - 0s 4ms/step - loss: 0.0091 - mean_absolute_percentage_error: 10.6966 - MSLE: 0.0091\n",
      "32/32 [==============================] - 0s 14ms/step - loss: 0.0106 - mean_absolute_percentage_error: 12.3592 - MSLE: 0.0106\n",
      "Epoch 17/80\n",
      "14/14 [==============================] - 0s 3ms/step - loss: 0.0093 - mean_absolute_percentage_error: 11.3200 - MSLE: 0.0093\n",
      "32/32 [==============================] - 0s 14ms/step - loss: 0.0116 - mean_absolute_percentage_error: 12.8777 - MSLE: 0.0116\n",
      "Epoch 18/80\n",
      "14/14 [==============================] - 0s 3ms/step - loss: 0.0087 - mean_absolute_percentage_error: 10.2581 - MSLE: 0.0087\n",
      "32/32 [==============================] - 0s 14ms/step - loss: 0.0104 - mean_absolute_percentage_error: 12.5355 - MSLE: 0.0104\n",
      "Epoch 19/80\n",
      "14/14 [==============================] - 0s 3ms/step - loss: 0.0085 - mean_absolute_percentage_error: 10.0657 - MSLE: 0.0085\n",
      "32/32 [==============================] - 0s 13ms/step - loss: 0.0096 - mean_absolute_percentage_error: 11.8239 - MSLE: 0.0096\n",
      "Epoch 20/80\n",
      "14/14 [==============================] - 0s 3ms/step - loss: 0.0083 - mean_absolute_percentage_error: 9.9278 - MSLE: 0.0083\n",
      "32/32 [==============================] - 0s 13ms/step - loss: 0.0106 - mean_absolute_percentage_error: 12.2472 - MSLE: 0.0106\n",
      "Epoch 21/80\n",
      "14/14 [==============================] - 0s 3ms/step - loss: 0.0084 - mean_absolute_percentage_error: 9.9145 - MSLE: 0.0084\n",
      "32/32 [==============================] - 0s 13ms/step - loss: 0.0097 - mean_absolute_percentage_error: 12.2773 - MSLE: 0.0097\n",
      "Epoch 22/80\n",
      "14/14 [==============================] - 0s 3ms/step - loss: 0.0084 - mean_absolute_percentage_error: 9.7469 - MSLE: 0.0084\n",
      "32/32 [==============================] - 1s 19ms/step - loss: 0.0090 - mean_absolute_percentage_error: 11.8887 - MSLE: 0.0090\n",
      "Epoch 23/80\n",
      "14/14 [==============================] - 0s 3ms/step - loss: 0.0081 - mean_absolute_percentage_error: 9.7039 - MSLE: 0.0081\n",
      "32/32 [==============================] - 0s 13ms/step - loss: 0.0092 - mean_absolute_percentage_error: 11.6020 - MSLE: 0.0092\n",
      "Epoch 24/80\n",
      "14/14 [==============================] - 0s 3ms/step - loss: 0.0085 - mean_absolute_percentage_error: 10.3842 - MSLE: 0.0085\n",
      "32/32 [==============================] - 0s 13ms/step - loss: 0.0091 - mean_absolute_percentage_error: 11.7930 - MSLE: 0.0091\n",
      "Epoch 25/80\n",
      "14/14 [==============================] - 0s 3ms/step - loss: 0.0084 - mean_absolute_percentage_error: 10.3172 - MSLE: 0.0084\n",
      "32/32 [==============================] - 0s 13ms/step - loss: 0.0091 - mean_absolute_percentage_error: 11.8910 - MSLE: 0.0091\n",
      "Epoch 26/80\n",
      "14/14 [==============================] - 0s 3ms/step - loss: 0.0081 - mean_absolute_percentage_error: 9.8111 - MSLE: 0.0081\n",
      "32/32 [==============================] - 0s 13ms/step - loss: 0.0086 - mean_absolute_percentage_error: 11.6265 - MSLE: 0.0086\n",
      "Epoch 27/80\n",
      "14/14 [==============================] - 0s 3ms/step - loss: 0.0080 - mean_absolute_percentage_error: 9.7404 - MSLE: 0.0080\n",
      "32/32 [==============================] - 0s 13ms/step - loss: 0.0089 - mean_absolute_percentage_error: 11.5924 - MSLE: 0.0089\n",
      "Epoch 28/80\n",
      "14/14 [==============================] - 0s 3ms/step - loss: 0.0082 - mean_absolute_percentage_error: 9.7387 - MSLE: 0.0082\n",
      "32/32 [==============================] - 0s 13ms/step - loss: 0.0085 - mean_absolute_percentage_error: 11.3511 - MSLE: 0.0085\n",
      "Epoch 29/80\n",
      "14/14 [==============================] - 0s 3ms/step - loss: 0.0087 - mean_absolute_percentage_error: 10.2532 - MSLE: 0.0087\n",
      "32/32 [==============================] - 0s 13ms/step - loss: 0.0085 - mean_absolute_percentage_error: 10.8931 - MSLE: 0.0085\n",
      "Epoch 30/80\n",
      "14/14 [==============================] - 0s 3ms/step - loss: 0.0083 - mean_absolute_percentage_error: 9.7613 - MSLE: 0.0083\n",
      "32/32 [==============================] - 0s 13ms/step - loss: 0.0082 - mean_absolute_percentage_error: 11.3349 - MSLE: 0.0082\n",
      "Epoch 31/80\n",
      "14/14 [==============================] - 0s 3ms/step - loss: 0.0085 - mean_absolute_percentage_error: 9.8822 - MSLE: 0.0085\n",
      "32/32 [==============================] - 0s 13ms/step - loss: 0.0081 - mean_absolute_percentage_error: 11.1176 - MSLE: 0.0081\n",
      "Epoch 32/80\n"
     ]
    },
    {
     "name": "stdout",
     "output_type": "stream",
     "text": [
      "14/14 [==============================] - 0s 3ms/step - loss: 0.0083 - mean_absolute_percentage_error: 9.7546 - MSLE: 0.0083\n",
      "32/32 [==============================] - 1s 19ms/step - loss: 0.0084 - mean_absolute_percentage_error: 11.1837 - MSLE: 0.0084\n",
      "Epoch 33/80\n",
      "14/14 [==============================] - 0s 3ms/step - loss: 0.0086 - mean_absolute_percentage_error: 10.0508 - MSLE: 0.0086\n",
      "32/32 [==============================] - 0s 13ms/step - loss: 0.0078 - mean_absolute_percentage_error: 11.2478 - MSLE: 0.0078\n",
      "Epoch 34/80\n",
      "14/14 [==============================] - 0s 3ms/step - loss: 0.0084 - mean_absolute_percentage_error: 9.8999 - MSLE: 0.0084\n",
      "32/32 [==============================] - 0s 13ms/step - loss: 0.0074 - mean_absolute_percentage_error: 10.5509 - MSLE: 0.0074\n",
      "Epoch 35/80\n",
      "14/14 [==============================] - 0s 3ms/step - loss: 0.0083 - mean_absolute_percentage_error: 9.8724 - MSLE: 0.0083\n",
      "32/32 [==============================] - 0s 13ms/step - loss: 0.0074 - mean_absolute_percentage_error: 10.8892 - MSLE: 0.0074\n",
      "Epoch 36/80\n",
      "14/14 [==============================] - 0s 3ms/step - loss: 0.0083 - mean_absolute_percentage_error: 9.8480 - MSLE: 0.0083\n",
      "32/32 [==============================] - 0s 13ms/step - loss: 0.0087 - mean_absolute_percentage_error: 11.2136 - MSLE: 0.0087\n",
      "Epoch 37/80\n",
      "14/14 [==============================] - 0s 3ms/step - loss: 0.0085 - mean_absolute_percentage_error: 10.1408 - MSLE: 0.0085\n",
      "32/32 [==============================] - 0s 13ms/step - loss: 0.0080 - mean_absolute_percentage_error: 10.9390 - MSLE: 0.0080\n",
      "Epoch 38/80\n",
      "14/14 [==============================] - 0s 3ms/step - loss: 0.0082 - mean_absolute_percentage_error: 9.9143 - MSLE: 0.0082\n",
      "32/32 [==============================] - 0s 13ms/step - loss: 0.0081 - mean_absolute_percentage_error: 10.7596 - MSLE: 0.0081\n",
      "Epoch 39/80\n",
      "14/14 [==============================] - 0s 3ms/step - loss: 0.0083 - mean_absolute_percentage_error: 10.0903 - MSLE: 0.0083\n",
      "32/32 [==============================] - 0s 13ms/step - loss: 0.0072 - mean_absolute_percentage_error: 10.5765 - MSLE: 0.0072\n",
      "Epoch 40/80\n",
      "14/14 [==============================] - 0s 3ms/step - loss: 0.0082 - mean_absolute_percentage_error: 9.8904 - MSLE: 0.0082\n",
      "32/32 [==============================] - 0s 13ms/step - loss: 0.0076 - mean_absolute_percentage_error: 11.0586 - MSLE: 0.0076\n",
      "Epoch 41/80\n",
      "14/14 [==============================] - 0s 3ms/step - loss: 0.0082 - mean_absolute_percentage_error: 9.8943 - MSLE: 0.0082\n",
      "32/32 [==============================] - 0s 13ms/step - loss: 0.0075 - mean_absolute_percentage_error: 10.5444 - MSLE: 0.0075\n",
      "Epoch 42/80\n",
      "14/14 [==============================] - 0s 3ms/step - loss: 0.0081 - mean_absolute_percentage_error: 9.7249 - MSLE: 0.0081\n",
      "32/32 [==============================] - 0s 13ms/step - loss: 0.0082 - mean_absolute_percentage_error: 10.8932 - MSLE: 0.0082\n",
      "Epoch 43/80\n",
      "14/14 [==============================] - 0s 3ms/step - loss: 0.0085 - mean_absolute_percentage_error: 10.1161 - MSLE: 0.0085\n",
      "32/32 [==============================] - 1s 19ms/step - loss: 0.0070 - mean_absolute_percentage_error: 10.1956 - MSLE: 0.0070\n",
      "Epoch 44/80\n",
      "14/14 [==============================] - 0s 3ms/step - loss: 0.0084 - mean_absolute_percentage_error: 10.0913 - MSLE: 0.0084\n",
      "32/32 [==============================] - 0s 13ms/step - loss: 0.0072 - mean_absolute_percentage_error: 10.6233 - MSLE: 0.0072\n",
      "Epoch 45/80\n",
      "14/14 [==============================] - 0s 3ms/step - loss: 0.0083 - mean_absolute_percentage_error: 10.0812 - MSLE: 0.0083\n",
      "32/32 [==============================] - 0s 13ms/step - loss: 0.0079 - mean_absolute_percentage_error: 11.1280 - MSLE: 0.0079\n",
      "Epoch 46/80\n",
      "14/14 [==============================] - 0s 3ms/step - loss: 0.0087 - mean_absolute_percentage_error: 10.3466 - MSLE: 0.0087\n",
      "32/32 [==============================] - 0s 13ms/step - loss: 0.0071 - mean_absolute_percentage_error: 10.4538 - MSLE: 0.0071\n",
      "Epoch 47/80\n",
      "14/14 [==============================] - 0s 3ms/step - loss: 0.0086 - mean_absolute_percentage_error: 10.2407 - MSLE: 0.0086\n",
      "32/32 [==============================] - 0s 13ms/step - loss: 0.0076 - mean_absolute_percentage_error: 10.6463 - MSLE: 0.0076\n",
      "Epoch 48/80\n",
      "14/14 [==============================] - 0s 3ms/step - loss: 0.0083 - mean_absolute_percentage_error: 9.9546 - MSLE: 0.0083\n",
      "32/32 [==============================] - 0s 12ms/step - loss: 0.0070 - mean_absolute_percentage_error: 10.1156 - MSLE: 0.0070\n",
      "Epoch 49/80\n",
      "14/14 [==============================] - 0s 3ms/step - loss: 0.0085 - mean_absolute_percentage_error: 10.0094 - MSLE: 0.0085\n",
      "32/32 [==============================] - 0s 13ms/step - loss: 0.0067 - mean_absolute_percentage_error: 9.9604 - MSLE: 0.0067\n",
      "Epoch 50/80\n",
      "14/14 [==============================] - 0s 3ms/step - loss: 0.0084 - mean_absolute_percentage_error: 9.8451 - MSLE: 0.0084\n",
      "32/32 [==============================] - 0s 13ms/step - loss: 0.0067 - mean_absolute_percentage_error: 10.0968 - MSLE: 0.0067\n",
      "Epoch 51/80\n",
      "14/14 [==============================] - 0s 3ms/step - loss: 0.0084 - mean_absolute_percentage_error: 9.9640 - MSLE: 0.0084\n",
      "32/32 [==============================] - 0s 13ms/step - loss: 0.0067 - mean_absolute_percentage_error: 10.0568 - MSLE: 0.0067\n",
      "Epoch 52/80\n",
      "14/14 [==============================] - 0s 3ms/step - loss: 0.0086 - mean_absolute_percentage_error: 10.3479 - MSLE: 0.0086\n",
      "32/32 [==============================] - 0s 13ms/step - loss: 0.0073 - mean_absolute_percentage_error: 10.5902 - MSLE: 0.0073\n",
      "Epoch 53/80\n",
      "14/14 [==============================] - 0s 3ms/step - loss: 0.0085 - mean_absolute_percentage_error: 10.1397 - MSLE: 0.0085\n",
      "32/32 [==============================] - 0s 13ms/step - loss: 0.0066 - mean_absolute_percentage_error: 10.0401 - MSLE: 0.0066\n",
      "Epoch 54/80\n",
      "14/14 [==============================] - 0s 3ms/step - loss: 0.0088 - mean_absolute_percentage_error: 10.3291 - MSLE: 0.0088\n",
      "32/32 [==============================] - 1s 19ms/step - loss: 0.0070 - mean_absolute_percentage_error: 10.3628 - MSLE: 0.0070\n",
      "Epoch 55/80\n",
      "14/14 [==============================] - 0s 3ms/step - loss: 0.0091 - mean_absolute_percentage_error: 10.6405 - MSLE: 0.0091\n",
      "32/32 [==============================] - 0s 13ms/step - loss: 0.0063 - mean_absolute_percentage_error: 9.5311 - MSLE: 0.0063\n",
      "Epoch 56/80\n",
      "14/14 [==============================] - 0s 4ms/step - loss: 0.0087 - mean_absolute_percentage_error: 10.3654 - MSLE: 0.0087\n",
      "32/32 [==============================] - 0s 14ms/step - loss: 0.0061 - mean_absolute_percentage_error: 9.6973 - MSLE: 0.0061\n",
      "Epoch 57/80\n",
      "14/14 [==============================] - 0s 3ms/step - loss: 0.0084 - mean_absolute_percentage_error: 9.9273 - MSLE: 0.0084\n",
      "32/32 [==============================] - 0s 13ms/step - loss: 0.0059 - mean_absolute_percentage_error: 9.4370 - MSLE: 0.0059\n",
      "Epoch 58/80\n",
      "14/14 [==============================] - 0s 3ms/step - loss: 0.0088 - mean_absolute_percentage_error: 10.4824 - MSLE: 0.0088\n",
      "32/32 [==============================] - 0s 13ms/step - loss: 0.0066 - mean_absolute_percentage_error: 10.0065 - MSLE: 0.0066\n",
      "Epoch 59/80\n",
      "14/14 [==============================] - 0s 3ms/step - loss: 0.0085 - mean_absolute_percentage_error: 10.1980 - MSLE: 0.0085\n",
      "32/32 [==============================] - 0s 13ms/step - loss: 0.0066 - mean_absolute_percentage_error: 9.8280 - MSLE: 0.0066\n",
      "Epoch 60/80\n",
      "14/14 [==============================] - 0s 3ms/step - loss: 0.0081 - mean_absolute_percentage_error: 9.8996 - MSLE: 0.0081\n",
      "32/32 [==============================] - 0s 14ms/step - loss: 0.0067 - mean_absolute_percentage_error: 9.7629 - MSLE: 0.0067\n",
      "Epoch 61/80\n",
      "14/14 [==============================] - 0s 3ms/step - loss: 0.0081 - mean_absolute_percentage_error: 9.9628 - MSLE: 0.0081\n",
      "32/32 [==============================] - 0s 13ms/step - loss: 0.0065 - mean_absolute_percentage_error: 9.8961 - MSLE: 0.0065\n",
      "Epoch 62/80\n",
      "14/14 [==============================] - 0s 3ms/step - loss: 0.0080 - mean_absolute_percentage_error: 9.8193 - MSLE: 0.0080\n",
      "32/32 [==============================] - 0s 13ms/step - loss: 0.0065 - mean_absolute_percentage_error: 9.9715 - MSLE: 0.0065\n",
      "Epoch 63/80\n"
     ]
    },
    {
     "name": "stdout",
     "output_type": "stream",
     "text": [
      "14/14 [==============================] - 0s 3ms/step - loss: 0.0079 - mean_absolute_percentage_error: 9.8682 - MSLE: 0.0079\n",
      "32/32 [==============================] - 0s 13ms/step - loss: 0.0061 - mean_absolute_percentage_error: 9.3947 - MSLE: 0.0061\n",
      "Epoch 64/80\n",
      "14/14 [==============================] - 0s 3ms/step - loss: 0.0080 - mean_absolute_percentage_error: 9.9791 - MSLE: 0.0080\n",
      "32/32 [==============================] - 0s 13ms/step - loss: 0.0057 - mean_absolute_percentage_error: 9.4112 - MSLE: 0.0057\n",
      "Epoch 65/80\n",
      "14/14 [==============================] - 0s 5ms/step - loss: 0.0080 - mean_absolute_percentage_error: 9.9516 - MSLE: 0.0080\n",
      "32/32 [==============================] - 1s 23ms/step - loss: 0.0060 - mean_absolute_percentage_error: 9.6250 - MSLE: 0.0060\n",
      "Epoch 66/80\n",
      "14/14 [==============================] - 0s 3ms/step - loss: 0.0081 - mean_absolute_percentage_error: 10.0619 - MSLE: 0.0081\n",
      "32/32 [==============================] - 0s 14ms/step - loss: 0.0058 - mean_absolute_percentage_error: 9.4256 - MSLE: 0.0058\n",
      "Epoch 67/80\n",
      "14/14 [==============================] - 0s 3ms/step - loss: 0.0080 - mean_absolute_percentage_error: 10.1495 - MSLE: 0.0080\n",
      "32/32 [==============================] - 0s 13ms/step - loss: 0.0058 - mean_absolute_percentage_error: 9.2195 - MSLE: 0.0058\n",
      "Epoch 68/80\n",
      "14/14 [==============================] - 0s 3ms/step - loss: 0.0082 - mean_absolute_percentage_error: 10.0611 - MSLE: 0.0082\n",
      "32/32 [==============================] - 0s 13ms/step - loss: 0.0066 - mean_absolute_percentage_error: 9.7287 - MSLE: 0.0066\n",
      "Epoch 69/80\n",
      "14/14 [==============================] - 0s 3ms/step - loss: 0.0083 - mean_absolute_percentage_error: 10.1521 - MSLE: 0.0083\n",
      "32/32 [==============================] - 0s 13ms/step - loss: 0.0055 - mean_absolute_percentage_error: 9.2937 - MSLE: 0.0055\n",
      "Epoch 70/80\n",
      "14/14 [==============================] - 0s 3ms/step - loss: 0.0085 - mean_absolute_percentage_error: 10.1658 - MSLE: 0.0085\n",
      "32/32 [==============================] - 0s 13ms/step - loss: 0.0059 - mean_absolute_percentage_error: 9.2548 - MSLE: 0.0059\n",
      "Epoch 71/80\n",
      "14/14 [==============================] - 0s 3ms/step - loss: 0.0080 - mean_absolute_percentage_error: 9.9894 - MSLE: 0.0080\n",
      "32/32 [==============================] - 0s 13ms/step - loss: 0.0061 - mean_absolute_percentage_error: 9.4749 - MSLE: 0.0061\n",
      "Epoch 72/80\n",
      "14/14 [==============================] - 0s 3ms/step - loss: 0.0079 - mean_absolute_percentage_error: 9.8720 - MSLE: 0.0079\n",
      "32/32 [==============================] - 0s 13ms/step - loss: 0.0059 - mean_absolute_percentage_error: 9.1275 - MSLE: 0.0059\n",
      "Epoch 73/80\n",
      "14/14 [==============================] - 0s 3ms/step - loss: 0.0080 - mean_absolute_percentage_error: 9.8960 - MSLE: 0.0080\n",
      "32/32 [==============================] - 0s 13ms/step - loss: 0.0061 - mean_absolute_percentage_error: 9.2919 - MSLE: 0.0061\n",
      "Epoch 74/80\n",
      "14/14 [==============================] - 0s 3ms/step - loss: 0.0083 - mean_absolute_percentage_error: 10.2665 - MSLE: 0.0083\n",
      "32/32 [==============================] - 0s 13ms/step - loss: 0.0054 - mean_absolute_percentage_error: 8.8899 - MSLE: 0.0054\n",
      "Epoch 75/80\n",
      "14/14 [==============================] - 0s 3ms/step - loss: 0.0085 - mean_absolute_percentage_error: 10.1265 - MSLE: 0.0085\n",
      "32/32 [==============================] - 0s 13ms/step - loss: 0.0062 - mean_absolute_percentage_error: 9.6401 - MSLE: 0.0062\n",
      "Epoch 76/80\n",
      "14/14 [==============================] - 0s 3ms/step - loss: 0.0083 - mean_absolute_percentage_error: 10.0494 - MSLE: 0.0083\n",
      "32/32 [==============================] - 1s 19ms/step - loss: 0.0054 - mean_absolute_percentage_error: 8.7724 - MSLE: 0.0054\n",
      "Epoch 77/80\n",
      "14/14 [==============================] - 0s 3ms/step - loss: 0.0079 - mean_absolute_percentage_error: 9.8198 - MSLE: 0.0079\n",
      "32/32 [==============================] - 0s 13ms/step - loss: 0.0054 - mean_absolute_percentage_error: 9.1521 - MSLE: 0.0054\n",
      "Epoch 78/80\n",
      "14/14 [==============================] - 0s 3ms/step - loss: 0.0082 - mean_absolute_percentage_error: 10.1223 - MSLE: 0.0082\n",
      "32/32 [==============================] - 0s 13ms/step - loss: 0.0046 - mean_absolute_percentage_error: 8.1604 - MSLE: 0.0046\n",
      "Epoch 79/80\n",
      "14/14 [==============================] - 0s 3ms/step - loss: 0.0084 - mean_absolute_percentage_error: 10.2004 - MSLE: 0.0084\n",
      "32/32 [==============================] - 0s 13ms/step - loss: 0.0055 - mean_absolute_percentage_error: 8.9147 - MSLE: 0.0055\n",
      "Epoch 80/80\n",
      "14/14 [==============================] - 0s 3ms/step - loss: 0.0080 - mean_absolute_percentage_error: 9.9773 - MSLE: 0.0080\n",
      "32/32 [==============================] - 0s 13ms/step - loss: 0.0058 - mean_absolute_percentage_error: 8.8866 - MSLE: 0.0058\n"
     ]
    },
    {
     "data": {
      "text/plain": [
       "<keras.callbacks.History at 0x7fa53014c0f0>"
      ]
     },
     "execution_count": 12,
     "metadata": {},
     "output_type": "execute_result"
    }
   ],
   "source": [
    "train_losses = []\n",
    "test_losses = []\n",
    "epochs_list = []\n",
    "model = first_model(preprocessing_model, inputs)\n",
    "model.fit(x=features_dict, y=labels, epochs=80, callbacks=[Callbacks()])"
   ]
  },
  {
   "cell_type": "markdown",
   "metadata": {},
   "source": [
    "Plot the learning curves (the hyperparameters were tuned to minimize bias and variance based on this plot)"
   ]
  },
  {
   "cell_type": "code",
   "execution_count": 13,
   "metadata": {},
   "outputs": [
    {
     "data": {
      "image/png": "[encoded data removed]",
      "text/plain": [
       "<Figure size 432x288 with 1 Axes>"
      ]
     },
     "metadata": {
      "needs_background": "light"
     },
     "output_type": "display_data"
    }
   ],
   "source": [
    "plt.figure()\n",
    "plt.plot(epochs_list, train_losses, label='Train')\n",
    "plt.plot(epochs_list, test_losses, label='Test')\n",
    "plt.legend()\n",
    "plt.ylim([0,1.15 * max(train_losses[0], test_losses[0])])\n",
    "plt.xlabel('Epochs')\n",
    "plt.ylabel('mean absolute percentage error')\n",
    "plt.show()"
   ]
  },
  {
   "cell_type": "code",
   "execution_count": 17,
   "metadata": {},
   "outputs": [
    {
     "name": "stdout",
     "output_type": "stream",
     "text": [
      "14/14 [==============================] - 0s 3ms/step - loss: 0.0080 - mean_absolute_percentage_error: 9.9773 - MSLE: 0.0080\n"
     ]
    },
    {
     "data": {
      "text/plain": [
       "[0.008023053407669067, 9.977315902709961, 0.008023053407669067]"
      ]
     },
     "execution_count": 17,
     "metadata": {},
     "output_type": "execute_result"
    }
   ],
   "source": [
    "model.evaluate(test_features_dict, test_labels)"
   ]
  },
  {
   "cell_type": "code",
   "execution_count": 18,
   "metadata": {},
   "outputs": [],
   "source": [
    "preds = model.predict(test_features_dict) * 100000\n",
    "actual = test_labels * 100000"
   ]
  },
  {
   "cell_type": "markdown",
   "metadata": {},
   "source": [
    "Compute the mean squared logarithmic error "
   ]
  },
  {
   "cell_type": "code",
   "execution_count": 19,
   "metadata": {},
   "outputs": [
    {
     "data": {
      "text/plain": [
       "array([0.141])"
      ]
     },
     "execution_count": 19,
     "metadata": {},
     "output_type": "execute_result"
    }
   ],
   "source": [
    "tot_sum = 0\n",
    "for i in range(len(preds)):\n",
    "    tot_sum += (np.log(preds[i] + 1) - np.log(actual[i] + 1)) ** 2\n",
    "np.sqrt(tot_sum / len(preds))"
   ]
  },
  {
   "cell_type": "markdown",
   "metadata": {},
   "source": [
    "# New model: Random Forest"
   ]
  },
  {
   "cell_type": "markdown",
   "metadata": {},
   "source": [
    "Since it seems like it will be hard to reduce our bias with a neural network, we will turn to another model: random forests. We will do the same date pre-processing, but this time using pandas, since we will Scikit learn and not keras."
   ]
  },
  {
   "cell_type": "code",
   "execution_count": 20,
   "metadata": {},
   "outputs": [
    {
     "name": "stdout",
     "output_type": "stream",
     "text": [
      "\n"
     ]
    }
   ],
   "source": [
    "#Do the same preprocessing as with the other model\n",
    "\n",
    "full_data = pd.read_csv(\"./Data/train.csv\")\n",
    "\n",
    "year_cols=['YearBuilt', 'YearRemodAdd', 'GarageYrBlt', 'YrSold']\n",
    "\n",
    "for col in year_cols:\n",
    "    full_data[col] = full_data[col].astype(str)\n",
    "\n",
    "cutoff = 7 * len(full_data) // 10\n",
    "\n",
    "train_data = full_data[:cutoff]\n",
    "features = train_data.copy()\n",
    "labels = np.array(features.pop('SalePrice'))\n",
    "features.pop('Id')\n",
    "\n",
    "test_data = full_data[cutoff:]\n",
    "test_features = test_data.copy()\n",
    "test_labels = np.array(test_features.pop('SalePrice'))\n",
    "test_features.pop('Id')\n",
    "print()"
   ]
  },
  {
   "cell_type": "markdown",
   "metadata": {},
   "source": [
    "For this we do the preprocessing only using pandas, rather than the keras layers"
   ]
  },
  {
   "cell_type": "code",
   "execution_count": 21,
   "metadata": {},
   "outputs": [],
   "source": [
    "def PandasPreprocessing(features, train_data):  \n",
    "    year_cols=['YearBuilt', 'YearRemodAdd', 'GarageYrBlt', 'YrSold']\n",
    "    #Get years as strings\n",
    "    for col in year_cols:\n",
    "        train_data[col] = train_data[col].astype(str)\n",
    "    #Deal with missing data as before\n",
    "    for name, column in features.items():\n",
    "        dtype = column.dtype\n",
    "        if dtype == object:\n",
    "            features[name] = features[name].fillna('NO INFO')\n",
    "            train_data[name] = train_data[name].fillna('NO INFO')\n",
    "            enc = OneHotEncoder(handle_unknown='ignore')\n",
    "            enc.fit(train_data[name].to_numpy().reshape(-1, 1))\n",
    "            encoded_col = enc.transform(column.to_numpy().reshape(-1, 1)).toarray()\n",
    "            encoded_col = list(map(list, zip(*encoded_col)))\n",
    "            features.pop(name)\n",
    "            for i, col in enumerate(encoded_col):\n",
    "                features[name + '_' + str(i)] = col\n",
    "        else:\n",
    "            #No real need to normalize for tree based algorithms, just fill the nans with column mean\n",
    "            features[name] = features[name].fillna(features[name].mean(axis=0))\n",
    "    return features"
   ]
  },
  {
   "cell_type": "code",
   "execution_count": 23,
   "metadata": {},
   "outputs": [
    {
     "name": "stderr",
     "output_type": "stream",
     "text": [
      "/home/mathieu/anaconda3/lib/python3.7/site-packages/ipykernel_launcher.py:4: SettingWithCopyWarning: \n",
      "A value is trying to be set on a copy of a slice from a DataFrame.\n",
      "Try using .loc[row_indexer,col_indexer] = value instead\n",
      "\n",
      "See the caveats in the documentation: http://pandas.pydata.org/pandas-docs/stable/indexing.html#indexing-view-versus-copy\n",
      "  after removing the cwd from sys.path.\n"
     ]
    }
   ],
   "source": [
    "features = PandasPreprocessing(features, train_data)\n",
    "test_features = PandasPreprocessing(test_features, train_data)"
   ]
  },
  {
   "cell_type": "code",
   "execution_count": 24,
   "metadata": {},
   "outputs": [],
   "source": [
    "# Set values for the parameter grid we want to train our model over\n",
    "n_estimators = [int(x) for x in np.linspace(start = 200, stop = 2000, num = 10)]\n",
    "max_features = ['auto', 'sqrt']\n",
    "max_depth = [int(x) for x in np.linspace(10, 110, num = 11)]\n",
    "max_depth.append(None)\n",
    "min_samples_split = [2, 5, 10]\n",
    "min_samples_leaf = [1, 2, 4]\n",
    "bootstrap = [True, False]\n",
    "random_grid = {'n_estimators': n_estimators,\n",
    "               'max_features': max_features,\n",
    "               'max_depth': max_depth,\n",
    "               'min_samples_split': min_samples_split,\n",
    "               'min_samples_leaf': min_samples_leaf,\n",
    "               'bootstrap': bootstrap}"
   ]
  },
  {
   "cell_type": "markdown",
   "metadata": {},
   "source": [
    "Train the model over our random grid"
   ]
  },
  {
   "cell_type": "code",
   "execution_count": 26,
   "metadata": {},
   "outputs": [
    {
     "name": "stdout",
     "output_type": "stream",
     "text": [
      "Fitting 3 folds for each of 100 candidates, totalling 300 fits\n"
     ]
    },
    {
     "name": "stderr",
     "output_type": "stream",
     "text": [
      "/home/mathieu/anaconda3/lib/python3.7/site-packages/sklearn/model_selection/_split.py:442: DeprecationWarning: `np.int` is a deprecated alias for the builtin `int`. To silence this warning, use `int` by itself. Doing this will not modify any behavior and is safe. When replacing `np.int`, you may wish to use e.g. `np.int64` or `np.int32` to specify the precision. If you wish to review your current use, check the release note link for additional information.\n",
      "Deprecated in NumPy 1.20; for more details and guidance: https://numpy.org/devdocs/release/1.20.0-notes.html#deprecations\n",
      "  fold_sizes = np.full(n_splits, n_samples // n_splits, dtype=np.int)\n",
      "/home/mathieu/anaconda3/lib/python3.7/site-packages/sklearn/model_selection/_split.py:102: DeprecationWarning: `np.bool` is a deprecated alias for the builtin `bool`. To silence this warning, use `bool` by itself. Doing this will not modify any behavior and is safe. If you specifically wanted the numpy scalar type, use `np.bool_` here.\n",
      "Deprecated in NumPy 1.20; for more details and guidance: https://numpy.org/devdocs/release/1.20.0-notes.html#deprecations\n",
      "  test_mask = np.zeros(_num_samples(X), dtype=np.bool)\n",
      "/home/mathieu/anaconda3/lib/python3.7/site-packages/sklearn/model_selection/_split.py:102: DeprecationWarning: `np.bool` is a deprecated alias for the builtin `bool`. To silence this warning, use `bool` by itself. Doing this will not modify any behavior and is safe. If you specifically wanted the numpy scalar type, use `np.bool_` here.\n",
      "Deprecated in NumPy 1.20; for more details and guidance: https://numpy.org/devdocs/release/1.20.0-notes.html#deprecations\n",
      "  test_mask = np.zeros(_num_samples(X), dtype=np.bool)\n",
      "/home/mathieu/anaconda3/lib/python3.7/site-packages/sklearn/model_selection/_split.py:102: DeprecationWarning: `np.bool` is a deprecated alias for the builtin `bool`. To silence this warning, use `bool` by itself. Doing this will not modify any behavior and is safe. If you specifically wanted the numpy scalar type, use `np.bool_` here.\n",
      "Deprecated in NumPy 1.20; for more details and guidance: https://numpy.org/devdocs/release/1.20.0-notes.html#deprecations\n",
      "  test_mask = np.zeros(_num_samples(X), dtype=np.bool)\n",
      "[Parallel(n_jobs=-1)]: Using backend LokyBackend with 8 concurrent workers.\n",
      "[Parallel(n_jobs=-1)]: Done  25 tasks      | elapsed:   56.1s\n",
      "[Parallel(n_jobs=-1)]: Done 146 tasks      | elapsed:  3.8min\n",
      "[Parallel(n_jobs=-1)]: Done 300 out of 300 | elapsed:  9.4min finished\n",
      "/home/mathieu/anaconda3/lib/python3.7/site-packages/sklearn/model_selection/_search.py:793: DeprecationWarning: `np.int` is a deprecated alias for the builtin `int`. To silence this warning, use `int` by itself. Doing this will not modify any behavior and is safe. When replacing `np.int`, you may wish to use e.g. `np.int64` or `np.int32` to specify the precision. If you wish to review your current use, check the release note link for additional information.\n",
      "Deprecated in NumPy 1.20; for more details and guidance: https://numpy.org/devdocs/release/1.20.0-notes.html#deprecations\n",
      "  dtype=np.int)\n"
     ]
    },
    {
     "data": {
      "text/plain": [
       "RandomizedSearchCV(cv=3, error_score='raise-deprecating',\n",
       "                   estimator=RandomForestRegressor(bootstrap=True,\n",
       "                                                   criterion='mse',\n",
       "                                                   max_depth=None,\n",
       "                                                   max_features='auto',\n",
       "                                                   max_leaf_nodes=None,\n",
       "                                                   min_impurity_decrease=0.0,\n",
       "                                                   min_impurity_split=None,\n",
       "                                                   min_samples_leaf=1,\n",
       "                                                   min_samples_split=2,\n",
       "                                                   min_weight_fraction_leaf=0.0,\n",
       "                                                   n_estimators='warn',\n",
       "                                                   n_jobs=None, oob_score=False,\n",
       "                                                   random_sta...\n",
       "                   param_distributions={'bootstrap': [True, False],\n",
       "                                        'max_depth': [10, 20, 30, 40, 50, 60,\n",
       "                                                      70, 80, 90, 100, 110,\n",
       "                                                      None],\n",
       "                                        'max_features': ['auto', 'sqrt'],\n",
       "                                        'min_samples_leaf': [1, 2, 4],\n",
       "                                        'min_samples_split': [2, 5, 10],\n",
       "                                        'n_estimators': [200, 400, 600, 800,\n",
       "                                                         1000, 1200, 1400, 1600,\n",
       "                                                         1800, 2000]},\n",
       "                   pre_dispatch='2*n_jobs', random_state=42, refit=True,\n",
       "                   return_train_score=False, scoring=None, verbose=2)"
      ]
     },
     "execution_count": 26,
     "metadata": {},
     "output_type": "execute_result"
    }
   ],
   "source": [
    "regr = RandomForestRegressor()\n",
    "regr_random = RandomizedSearchCV(estimator = regr, param_distributions = random_grid, n_iter = 100, cv = 3, verbose=2, random_state=42, n_jobs = -1)\n",
    "regr_random.fit(features, labels)"
   ]
  },
  {
   "cell_type": "markdown",
   "metadata": {},
   "source": [
    "Find the best parameters in the grid"
   ]
  },
  {
   "cell_type": "code",
   "execution_count": 27,
   "metadata": {
    "scrolled": true
   },
   "outputs": [
    {
     "data": {
      "text/plain": [
       "{'n_estimators': 600,\n",
       " 'min_samples_split': 5,\n",
       " 'min_samples_leaf': 1,\n",
       " 'max_features': 'auto',\n",
       " 'max_depth': 80,\n",
       " 'bootstrap': True}"
      ]
     },
     "execution_count": 27,
     "metadata": {},
     "output_type": "execute_result"
    }
   ],
   "source": [
    "regr_random.best_params_"
   ]
  },
  {
   "cell_type": "markdown",
   "metadata": {},
   "source": [
    "Evaluate the models with the optimal parameters found"
   ]
  },
  {
   "cell_type": "code",
   "execution_count": 28,
   "metadata": {},
   "outputs": [
    {
     "data": {
      "text/plain": [
       "RandomForestRegressor(bootstrap=True, criterion='mse', max_depth=80,\n",
       "                      max_features='auto', max_leaf_nodes=None,\n",
       "                      min_impurity_decrease=0.0, min_impurity_split=None,\n",
       "                      min_samples_leaf=1, min_samples_split=5,\n",
       "                      min_weight_fraction_leaf=0.0, n_estimators=600,\n",
       "                      n_jobs=None, oob_score=False, random_state=None,\n",
       "                      verbose=0, warm_start=False)"
      ]
     },
     "execution_count": 28,
     "metadata": {},
     "output_type": "execute_result"
    }
   ],
   "source": [
    "regr = RandomForestRegressor(n_estimators = 600,\n",
    " min_samples_split = 5,\n",
    " min_samples_leaf = 1,\n",
    " max_features = 'auto',\n",
    " max_depth = 80,\n",
    " bootstrap = True)\n",
    "regr.fit(features, labels)"
   ]
  },
  {
   "cell_type": "markdown",
   "metadata": {},
   "source": [
    "Evaluate the model for the test set"
   ]
  },
  {
   "cell_type": "code",
   "execution_count": 29,
   "metadata": {},
   "outputs": [
    {
     "name": "stderr",
     "output_type": "stream",
     "text": [
      "/home/mathieu/anaconda3/lib/python3.7/site-packages/sklearn/ensemble/base.py:158: DeprecationWarning: `np.int` is a deprecated alias for the builtin `int`. To silence this warning, use `int` by itself. Doing this will not modify any behavior and is safe. When replacing `np.int`, you may wish to use e.g. `np.int64` or `np.int32` to specify the precision. If you wish to review your current use, check the release note link for additional information.\n",
      "Deprecated in NumPy 1.20; for more details and guidance: https://numpy.org/devdocs/release/1.20.0-notes.html#deprecations\n",
      "  dtype=np.int)\n"
     ]
    }
   ],
   "source": [
    "preds = regr.predict(test_features)\n",
    "actual = test_labels"
   ]
  },
  {
   "cell_type": "code",
   "execution_count": 30,
   "metadata": {},
   "outputs": [
    {
     "data": {
      "text/plain": [
       "0.15025485584369982"
      ]
     },
     "execution_count": 30,
     "metadata": {},
     "output_type": "execute_result"
    }
   ],
   "source": [
    "tot_sum = 0\n",
    "for i in range(len(preds)):\n",
    "    tot_sum += (np.log(preds[i] + 1) - np.log(actual[i] + 1)) ** 2\n",
    "np.sqrt(tot_sum / len(preds))"
   ]
  },
  {
   "cell_type": "markdown",
   "metadata": {},
   "source": [
    "It turns out that in this case, the RF model did not do better than the neural network"
   ]
  },
  {
   "cell_type": "code",
   "execution_count": null,
   "metadata": {},
   "outputs": [],
   "source": []
  }
 ],
 "metadata": {
  "kernelspec": {
   "display_name": "Python 3",
   "language": "python",
   "name": "python3"
  },
  "language_info": {
   "codemirror_mode": {
    "name": "ipython",
    "version": 3
   },
   "file_extension": ".py",
   "mimetype": "text/x-python",
   "name": "python",
   "nbconvert_exporter": "python",
   "pygments_lexer": "ipython3",
   "version": "3.7.3"
  }
 },
 "nbformat": 4,
 "nbformat_minor": 2
}
